{
 "cells": [
  {
   "cell_type": "markdown",
   "metadata": {},
   "source": [
    "## Atividade Avaliativa 1.2 - _Churn Prediction_\n",
    "\n",
    "- Redes Neurais Artificiais 2025.2\n",
    "- Profa. Elloá B. Guedes (ebgcosta@uea.edu.br)\n",
    "- http://github.com/elloa\n",
    "\n",
    "### Equipe\n",
    "\n",
    "- Juliana Ballin Lima (http://github.com/JulianaBallin)\n",
    "- Marcelo Heitor De Almeida Lira (github.com/integrante2)\n",
    "- Ryan Da Silva Marinho (github.com/integrante3)\n",
    "\n",
    "### Apresentação\n",
    "\n",
    "A previsão de evasão de clientes (_Churn Prediction_) é um problema tipicamente abordado pela Ciência de Dados com o uso de modelos de _Machine Learning_ para identificar clientes com alta probabilidade de descontinuar o uso de um serviço ou produto. Possui extrema importância para o domínio de negócios, especialmente para empresas com modelos de receita baseados em assinatura (SaaS, telecomunicações, serviços de streaming) ou que dependem da fidelidade do cliente, especialmente por:\n",
    "\n",
    "1. **Impacto na Receita e Lucratividade.** O custo de adquirir um novo cliente é, em geral, significativamente maior do que o custo de reter um cliente existente. A evasão de clientes (churn) representa uma perda direta de receita recorrente. Ao prever quais clientes estão em risco, as empresas podem intervir com estratégias de retenção direcionadas, como ofertas especiais ou suporte aprimorado, minimizando essa perda financeira. A retenção de clientes não só protege a receita atual, mas também contribui para o aumento do _Lifetime Value_ do cliente, que é a receita total que um cliente gera ao longo de sua relação com a empresa;\n",
    "2. **Otimização de Recursos e Estratégias.** Sem um modelo de previsão, as empresas tendem a adotar estratégias de retenção de forma genérica, aplicando os mesmos esforços a todos os clientes, independentemente do risco de evasão. Isso leva a um desperdício de recursos;\n",
    "3. **Entendimento do Comportamento do Cliente.** A construção de um modelo de previsão de churn exige a análise aprofundada dos dados de comportamento do cliente. Esse processo revela insights valiosos sobre o que leva os clientes a ficarem ou a saírem, o que não apenas ajuda a reter clientes, mas também auxilia o desenvolvimento de produtos, a melhoria do serviço e a criação de estratégias de marketing mais eficazes para atrair clientes com um perfil de maior lealdade.\n",
    "\n",
    "### Contexto do Problema\n",
    "\n",
    "O termo _Telco_ se refere a _telecommunications industry_. Este domínio é particularmente relevante para a análise de churn devido ao seu alto nível de competição e saturação. Os clientes neste setor — seja para serviços de telefonia móvel, internet ou TV a cabo — têm uma vasta gama de provedores à sua escolha, o que torna relativamente fácil para eles migrarem caso estejam insatisfeitos ou encontrem uma oferta melhor.\n",
    "\n",
    "### Base de Dados\n",
    "\n",
    "Base de dados original: https://www.kaggle.com/datasets/blastchar/telco-customer-churn"
   ]
  },
  {
   "cell_type": "markdown",
   "metadata": {},
   "source": [
    "### Bibliotecas\n",
    "\n",
    "Por hábito, a primeira célula do notebook costuma ser reservada para importação de bibliotecas.\n",
    "A cada biblioteca nova acrescida, é necessário executar a célula para atualização e correta execução."
   ]
  },
  {
   "cell_type": "code",
   "execution_count": 2,
   "metadata": {},
   "outputs": [],
   "source": [
    "#pip install --upgrade pip\n",
    "#pip install kagglehub[pandas-datasets]\n",
    "\n",
    "import kagglehub\n",
    "from kagglehub import KaggleDatasetAdapter\n",
    "import pandas as pd\n",
    "import matplotlib.pyplot as plt\n",
    "import numpy as np"
   ]
  },
  {
   "cell_type": "markdown",
   "metadata": {},
   "source": [
    "## Parte 1 - Análise e Exploração de Dados"
   ]
  },
  {
   "cell_type": "markdown",
   "metadata": {},
   "source": [
    "### Abertura do Dataset\n",
    "Abra o dataset e visualize o seu cabeçalho, isto é, os primeiros exemplos nele contidos. Isto é útil para checar se a importação foi realizada de maneira adequada e se a disposição dos dados está de acordo para os próximos passos do trabalho."
   ]
  },
  {
   "cell_type": "code",
   "execution_count": 3,
   "metadata": {},
   "outputs": [
    {
     "name": "stdout",
     "output_type": "stream",
     "text": [
      "   customerID  gender  SeniorCitizen Partner Dependents  tenure PhoneService  \\\n",
      "0  7590-VHVEG  Female              0     Yes         No       1           No   \n",
      "1  5575-GNVDE    Male              0      No         No      34          Yes   \n",
      "2  3668-QPYBK    Male              0      No         No       2          Yes   \n",
      "3  7795-CFOCW    Male              0      No         No      45           No   \n",
      "4  9237-HQITU  Female              0      No         No       2          Yes   \n",
      "\n",
      "      MultipleLines InternetService OnlineSecurity  ... DeviceProtection  \\\n",
      "0  No phone service             DSL             No  ...               No   \n",
      "1                No             DSL            Yes  ...              Yes   \n",
      "2                No             DSL            Yes  ...               No   \n",
      "3  No phone service             DSL            Yes  ...              Yes   \n",
      "4                No     Fiber optic             No  ...               No   \n",
      "\n",
      "  TechSupport StreamingTV StreamingMovies        Contract PaperlessBilling  \\\n",
      "0          No          No              No  Month-to-month              Yes   \n",
      "1          No          No              No        One year               No   \n",
      "2          No          No              No  Month-to-month              Yes   \n",
      "3         Yes          No              No        One year               No   \n",
      "4          No          No              No  Month-to-month              Yes   \n",
      "\n",
      "               PaymentMethod MonthlyCharges  TotalCharges Churn  \n",
      "0           Electronic check          29.85         29.85    No  \n",
      "1               Mailed check          56.95        1889.5    No  \n",
      "2               Mailed check          53.85        108.15   Yes  \n",
      "3  Bank transfer (automatic)          42.30       1840.75    No  \n",
      "4           Electronic check          70.70        151.65   Yes  \n",
      "\n",
      "[5 rows x 21 columns]\n"
     ]
    }
   ],
   "source": [
    "df = kagglehub.dataset_load(\n",
    "    KaggleDatasetAdapter.PANDAS,\n",
    "    \"blastchar/telco-customer-churn\",\n",
    "    \"WA_Fn-UseC_-Telco-Customer-Churn.csv\"\n",
    ")\n",
    "print(df.head())"
   ]
  },
  {
   "cell_type": "markdown",
   "metadata": {},
   "source": [
    "### Conhecendo o dataset\n",
    "\n",
    "Para praticar conceitos relativos à exploração do conjunto de dados, utilize as células a seguir para prover respostas para cada uma das respostas elencadas"
   ]
  },
  {
   "cell_type": "code",
   "execution_count": 4,
   "metadata": {},
   "outputs": [
    {
     "name": "stdout",
     "output_type": "stream",
     "text": [
      "customerID           object\n",
      "gender               object\n",
      "SeniorCitizen         int64\n",
      "Partner              object\n",
      "Dependents           object\n",
      "tenure                int64\n",
      "PhoneService         object\n",
      "MultipleLines        object\n",
      "InternetService      object\n",
      "OnlineSecurity       object\n",
      "OnlineBackup         object\n",
      "DeviceProtection     object\n",
      "TechSupport          object\n",
      "StreamingTV          object\n",
      "StreamingMovies      object\n",
      "Contract             object\n",
      "PaperlessBilling     object\n",
      "PaymentMethod        object\n",
      "MonthlyCharges      float64\n",
      "TotalCharges         object\n",
      "Churn                object\n",
      "dtype: object\n"
     ]
    }
   ],
   "source": [
    "print(df.dtypes)"
   ]
  },
  {
   "cell_type": "markdown",
   "metadata": {},
   "source": [
    "#### Quantos exemplos há no dataset?"
   ]
  },
  {
   "cell_type": "code",
   "execution_count": 5,
   "metadata": {},
   "outputs": [
    {
     "name": "stdout",
     "output_type": "stream",
     "text": [
      "Number of examples: 7043\n",
      "Shape do dataset: (7043, 21)\n"
     ]
    }
   ],
   "source": [
    "print(\"Number of examples:\", len(df))\n",
    "print(\"Shape do dataset:\", df.shape)"
   ]
  },
  {
   "cell_type": "markdown",
   "metadata": {},
   "source": [
    "#### Dados Faltantes\n",
    "\n",
    "- Elimine todas as entradas em que há dados faltantes\n",
    "- Qual o decréscimo percentual no tamanho do dataset?"
   ]
  },
  {
   "cell_type": "code",
   "execution_count": 6,
   "metadata": {},
   "outputs": [],
   "source": [
    "# Change values in the TotalCharges column to 0 instead of null\n",
    "# Previously as an object because when creating a new customer, it initializes empty by default\n",
    "df['TotalCharges'] = pd.to_numeric(df['TotalCharges'], errors='coerce')\n",
    "\n",
    "# Delete all rows with missing values\n",
    "df_clean = df.dropna()"
   ]
  },
  {
   "cell_type": "code",
   "execution_count": 7,
   "metadata": {},
   "outputs": [
    {
     "name": "stdout",
     "output_type": "stream",
     "text": [
      "Lines before: 7043\n",
      "Lines after: 7032\n",
      "Percentage decrease: 0.16%\n"
     ]
    }
   ],
   "source": [
    "# Dataset len before clean\n",
    "lines_before = len(df)\n",
    "\n",
    "# Dataset len after clean\n",
    "lines_after = len(df_clean)\n",
    "\n",
    "# Calculate percentage decrease\n",
    "decr_percent = ((lines_before - lines_after) / lines_before) * 100\n",
    "\n",
    "print(f\"Lines before: {lines_before}\")\n",
    "print(f\"Lines after: {lines_after}\")\n",
    "print(f\"Percentage decrease: {decr_percent:.2f}%\")"
   ]
  },
  {
   "cell_type": "markdown",
   "metadata": {},
   "source": [
    "#### Dados Duplicados\n",
    "\n",
    "- Verifique se há clientes duplicados (mesmo id é repetido)\n",
    "- Em caso afirmativo, elimine as duplicatas, favorecendo as entradas mais recentes"
   ]
  },
  {
   "cell_type": "code",
   "execution_count": 8,
   "metadata": {},
   "outputs": [
    {
     "name": "stdout",
     "output_type": "stream",
     "text": [
      "Number of duplicated customerIDs: 0\n",
      "Total duplicated rows: 0\n"
     ]
    }
   ],
   "source": [
    "# Step 1: Check for duplicate customers (same customerID repeated)\n",
    "duplicates = df_clean[df_clean.duplicated(subset=\"customerID\", keep=False)]\n",
    "\n",
    "print(\"Number of duplicated customerIDs:\", duplicates[\"customerID\"].nunique())\n",
    "print(\"Total duplicated rows:\", len(duplicates))"
   ]
  },
  {
   "cell_type": "code",
   "execution_count": 9,
   "metadata": {},
   "outputs": [
    {
     "name": "stdout",
     "output_type": "stream",
     "text": [
      "Shape after removing duplicates: (7032, 21)\n"
     ]
    }
   ],
   "source": [
    "#Step 2: If duplicates exist, keep the most recent entry\n",
    "# We assume 'tenure' (number of months as a customer) represents recency,\n",
    "# so the higher the tenure, the more recent/complete the record.\n",
    "\n",
    "# Sort by customerID and tenure in descending order\n",
    "df_clean = df_clean.sort_values(by=[\"customerID\", \"tenure\"], ascending=[True, False])\n",
    "\n",
    "# Drop duplicates, keeping only the most recent record for each customerID\n",
    "df_clean = df_clean.drop_duplicates(subset=\"customerID\", keep=\"first\")\n",
    "\n",
    "print(\"Shape after removing duplicates:\", df_clean.shape)"
   ]
  },
  {
   "cell_type": "code",
   "execution_count": 10,
   "metadata": {},
   "outputs": [
    {
     "name": "stdout",
     "output_type": "stream",
     "text": [
      "Remaining duplicates: 0\n"
     ]
    }
   ],
   "source": [
    "#Step 3: Verify that all duplicates were removed\n",
    "remaining_duplicates = df_clean.duplicated(subset=\"customerID\").sum()\n",
    "print(\"Remaining duplicates:\", remaining_duplicates)"
   ]
  },
  {
   "cell_type": "markdown",
   "metadata": {},
   "source": [
    "#### Quais os atributos existentes no dataset e seu tipo?\n",
    "\n",
    "- Exemplos de tipos de dados são categóricos (nominal ou ordinal), numéricos (discreto ou contínuo), textual ou estampa de tempo. Faça uma análise e agrupe por categoria na sua resposta. Observe que analisar os tipos das variáveis não é suficiente."
   ]
  },
  {
   "cell_type": "code",
   "execution_count": 11,
   "metadata": {},
   "outputs": [
    {
     "name": "stdout",
     "output_type": "stream",
     "text": [
      "customerID           object\n",
      "gender               object\n",
      "SeniorCitizen         int64\n",
      "Partner              object\n",
      "Dependents           object\n",
      "tenure                int64\n",
      "PhoneService         object\n",
      "MultipleLines        object\n",
      "InternetService      object\n",
      "OnlineSecurity       object\n",
      "OnlineBackup         object\n",
      "DeviceProtection     object\n",
      "TechSupport          object\n",
      "StreamingTV          object\n",
      "StreamingMovies      object\n",
      "Contract             object\n",
      "PaperlessBilling     object\n",
      "PaymentMethod        object\n",
      "MonthlyCharges      float64\n",
      "TotalCharges        float64\n",
      "Churn                object\n",
      "dtype: object\n"
     ]
    }
   ],
   "source": [
    "print(df_clean.dtypes)"
   ]
  },
  {
   "cell_type": "code",
   "execution_count": 12,
   "metadata": {},
   "outputs": [],
   "source": [
    "#Step 1: Define semantic types for each attribute\n",
    "semantic_types = {\n",
    "    # Customer info\n",
    "    \"customerID\": \"Textual (identifier)\",\n",
    "    \n",
    "    # Demographics\n",
    "    \"gender\": \"Categorical (nominal)\",\n",
    "    \"SeniorCitizen\": \"Categorical (binary)\",\n",
    "    \"Partner\": \"Categorical (binary)\",\n",
    "    \"Dependents\": \"Categorical (binary)\",\n",
    "    \n",
    "    # Service subscription attributes\n",
    "    \"tenure\": \"Numerical (discrete, ordinal)\",\n",
    "    \"PhoneService\": \"Categorical (binary)\",\n",
    "    \"MultipleLines\": \"Categorical (nominal)\",\n",
    "    \"InternetService\": \"Categorical (nominal)\",\n",
    "    \"OnlineSecurity\": \"Categorical (nominal)\",\n",
    "    \"OnlineBackup\": \"Categorical (nominal)\",\n",
    "    \"DeviceProtection\": \"Categorical (nominal)\",\n",
    "    \"TechSupport\": \"Categorical (nominal)\",\n",
    "    \"StreamingTV\": \"Categorical (nominal)\",\n",
    "    \"StreamingMovies\": \"Categorical (nominal)\",\n",
    "    \"Contract\": \"Categorical (ordinal)\",\n",
    "    \"PaperlessBilling\": \"Categorical (binary)\",\n",
    "    \"PaymentMethod\": \"Categorical (nominal)\",\n",
    "    \n",
    "    # Charges\n",
    "    \"MonthlyCharges\": \"Numerical (continuous)\",\n",
    "    \"TotalCharges\": \"Numerical (continuous)\",\n",
    "    \n",
    "    # Target variable\n",
    "    \"Churn\": \"Categorical (binary)\"\n",
    "}"
   ]
  },
  {
   "cell_type": "code",
   "execution_count": 13,
   "metadata": {},
   "outputs": [
    {
     "name": "stdout",
     "output_type": "stream",
     "text": [
      "Attributes and their semantic types:\n",
      "\n"
     ]
    },
    {
     "data": {
      "text/html": [
       "<div>\n",
       "<style scoped>\n",
       "    .dataframe tbody tr th:only-of-type {\n",
       "        vertical-align: middle;\n",
       "    }\n",
       "\n",
       "    .dataframe tbody tr th {\n",
       "        vertical-align: top;\n",
       "    }\n",
       "\n",
       "    .dataframe thead th {\n",
       "        text-align: right;\n",
       "    }\n",
       "</style>\n",
       "<table border=\"1\" class=\"dataframe\">\n",
       "  <thead>\n",
       "    <tr style=\"text-align: right;\">\n",
       "      <th></th>\n",
       "      <th>Attribute</th>\n",
       "      <th>Semantic Type</th>\n",
       "    </tr>\n",
       "  </thead>\n",
       "  <tbody>\n",
       "    <tr>\n",
       "      <th>0</th>\n",
       "      <td>customerID</td>\n",
       "      <td>Textual (identifier)</td>\n",
       "    </tr>\n",
       "    <tr>\n",
       "      <th>1</th>\n",
       "      <td>gender</td>\n",
       "      <td>Categorical (nominal)</td>\n",
       "    </tr>\n",
       "    <tr>\n",
       "      <th>2</th>\n",
       "      <td>SeniorCitizen</td>\n",
       "      <td>Categorical (binary)</td>\n",
       "    </tr>\n",
       "    <tr>\n",
       "      <th>3</th>\n",
       "      <td>Partner</td>\n",
       "      <td>Categorical (binary)</td>\n",
       "    </tr>\n",
       "    <tr>\n",
       "      <th>4</th>\n",
       "      <td>Dependents</td>\n",
       "      <td>Categorical (binary)</td>\n",
       "    </tr>\n",
       "    <tr>\n",
       "      <th>5</th>\n",
       "      <td>tenure</td>\n",
       "      <td>Numerical (discrete, ordinal)</td>\n",
       "    </tr>\n",
       "    <tr>\n",
       "      <th>6</th>\n",
       "      <td>PhoneService</td>\n",
       "      <td>Categorical (binary)</td>\n",
       "    </tr>\n",
       "    <tr>\n",
       "      <th>7</th>\n",
       "      <td>MultipleLines</td>\n",
       "      <td>Categorical (nominal)</td>\n",
       "    </tr>\n",
       "    <tr>\n",
       "      <th>8</th>\n",
       "      <td>InternetService</td>\n",
       "      <td>Categorical (nominal)</td>\n",
       "    </tr>\n",
       "    <tr>\n",
       "      <th>9</th>\n",
       "      <td>OnlineSecurity</td>\n",
       "      <td>Categorical (nominal)</td>\n",
       "    </tr>\n",
       "    <tr>\n",
       "      <th>10</th>\n",
       "      <td>OnlineBackup</td>\n",
       "      <td>Categorical (nominal)</td>\n",
       "    </tr>\n",
       "    <tr>\n",
       "      <th>11</th>\n",
       "      <td>DeviceProtection</td>\n",
       "      <td>Categorical (nominal)</td>\n",
       "    </tr>\n",
       "    <tr>\n",
       "      <th>12</th>\n",
       "      <td>TechSupport</td>\n",
       "      <td>Categorical (nominal)</td>\n",
       "    </tr>\n",
       "    <tr>\n",
       "      <th>13</th>\n",
       "      <td>StreamingTV</td>\n",
       "      <td>Categorical (nominal)</td>\n",
       "    </tr>\n",
       "    <tr>\n",
       "      <th>14</th>\n",
       "      <td>StreamingMovies</td>\n",
       "      <td>Categorical (nominal)</td>\n",
       "    </tr>\n",
       "    <tr>\n",
       "      <th>15</th>\n",
       "      <td>Contract</td>\n",
       "      <td>Categorical (ordinal)</td>\n",
       "    </tr>\n",
       "    <tr>\n",
       "      <th>16</th>\n",
       "      <td>PaperlessBilling</td>\n",
       "      <td>Categorical (binary)</td>\n",
       "    </tr>\n",
       "    <tr>\n",
       "      <th>17</th>\n",
       "      <td>PaymentMethod</td>\n",
       "      <td>Categorical (nominal)</td>\n",
       "    </tr>\n",
       "    <tr>\n",
       "      <th>18</th>\n",
       "      <td>MonthlyCharges</td>\n",
       "      <td>Numerical (continuous)</td>\n",
       "    </tr>\n",
       "    <tr>\n",
       "      <th>19</th>\n",
       "      <td>TotalCharges</td>\n",
       "      <td>Numerical (continuous)</td>\n",
       "    </tr>\n",
       "    <tr>\n",
       "      <th>20</th>\n",
       "      <td>Churn</td>\n",
       "      <td>Categorical (binary)</td>\n",
       "    </tr>\n",
       "  </tbody>\n",
       "</table>\n",
       "</div>"
      ],
      "text/plain": [
       "           Attribute                  Semantic Type\n",
       "0         customerID           Textual (identifier)\n",
       "1             gender          Categorical (nominal)\n",
       "2      SeniorCitizen           Categorical (binary)\n",
       "3            Partner           Categorical (binary)\n",
       "4         Dependents           Categorical (binary)\n",
       "5             tenure  Numerical (discrete, ordinal)\n",
       "6       PhoneService           Categorical (binary)\n",
       "7      MultipleLines          Categorical (nominal)\n",
       "8    InternetService          Categorical (nominal)\n",
       "9     OnlineSecurity          Categorical (nominal)\n",
       "10      OnlineBackup          Categorical (nominal)\n",
       "11  DeviceProtection          Categorical (nominal)\n",
       "12       TechSupport          Categorical (nominal)\n",
       "13       StreamingTV          Categorical (nominal)\n",
       "14   StreamingMovies          Categorical (nominal)\n",
       "15          Contract          Categorical (ordinal)\n",
       "16  PaperlessBilling           Categorical (binary)\n",
       "17     PaymentMethod          Categorical (nominal)\n",
       "18    MonthlyCharges         Numerical (continuous)\n",
       "19      TotalCharges         Numerical (continuous)\n",
       "20             Churn           Categorical (binary)"
      ]
     },
     "metadata": {},
     "output_type": "display_data"
    }
   ],
   "source": [
    "# Step 2: Convert dictionary into a DataFrame\n",
    "semantic_df = pd.DataFrame(\n",
    "    list(semantic_types.items()),\n",
    "    columns=[\"Attribute\", \"Semantic Type\"]\n",
    ")\n",
    "\n",
    "# Step 3: Display nicely\n",
    "print(\"Attributes and their semantic types:\\n\")\n",
    "display(semantic_df)"
   ]
  },
  {
   "cell_type": "markdown",
   "metadata": {},
   "source": [
    "#### Qual cliente paga o maior valor de assinatura mensal e que não faz streaming de filmes?\n",
    "\n",
    "- Apresente o valor pago mensalmente e os demais atributos desse cliente"
   ]
  },
  {
   "cell_type": "code",
   "execution_count": 14,
   "metadata": {},
   "outputs": [],
   "source": [
    "# Step 1: Filter customers with no streaming movies\n",
    "no_movies = df_clean[df_clean[\"StreamingMovies\"] == \"No\"]\n",
    "\n",
    "#  Step 2: Get the row with the highest monthly charge among them\n",
    "highest_no_movies = no_movies.loc[no_movies[\"MonthlyCharges\"].idxmax()]"
   ]
  },
  {
   "cell_type": "code",
   "execution_count": 15,
   "metadata": {},
   "outputs": [
    {
     "name": "stdout",
     "output_type": "stream",
     "text": [
      "Customer paying the highest monthly charge without StreamingMovies:\n",
      "MonthlyCharges: 106.75\n"
     ]
    },
    {
     "data": {
      "text/html": [
       "<div>\n",
       "<style scoped>\n",
       "    .dataframe tbody tr th:only-of-type {\n",
       "        vertical-align: middle;\n",
       "    }\n",
       "\n",
       "    .dataframe tbody tr th {\n",
       "        vertical-align: top;\n",
       "    }\n",
       "\n",
       "    .dataframe thead th {\n",
       "        text-align: right;\n",
       "    }\n",
       "</style>\n",
       "<table border=\"1\" class=\"dataframe\">\n",
       "  <thead>\n",
       "    <tr style=\"text-align: right;\">\n",
       "      <th></th>\n",
       "      <th>customerID</th>\n",
       "      <th>gender</th>\n",
       "      <th>SeniorCitizen</th>\n",
       "      <th>Partner</th>\n",
       "      <th>Dependents</th>\n",
       "      <th>tenure</th>\n",
       "      <th>PhoneService</th>\n",
       "      <th>MultipleLines</th>\n",
       "      <th>InternetService</th>\n",
       "      <th>OnlineSecurity</th>\n",
       "      <th>...</th>\n",
       "      <th>DeviceProtection</th>\n",
       "      <th>TechSupport</th>\n",
       "      <th>StreamingTV</th>\n",
       "      <th>StreamingMovies</th>\n",
       "      <th>Contract</th>\n",
       "      <th>PaperlessBilling</th>\n",
       "      <th>PaymentMethod</th>\n",
       "      <th>MonthlyCharges</th>\n",
       "      <th>TotalCharges</th>\n",
       "      <th>Churn</th>\n",
       "    </tr>\n",
       "  </thead>\n",
       "  <tbody>\n",
       "    <tr>\n",
       "      <th>5544</th>\n",
       "      <td>9572-MTILT</td>\n",
       "      <td>Male</td>\n",
       "      <td>0</td>\n",
       "      <td>Yes</td>\n",
       "      <td>No</td>\n",
       "      <td>59</td>\n",
       "      <td>Yes</td>\n",
       "      <td>Yes</td>\n",
       "      <td>Fiber optic</td>\n",
       "      <td>Yes</td>\n",
       "      <td>...</td>\n",
       "      <td>Yes</td>\n",
       "      <td>Yes</td>\n",
       "      <td>Yes</td>\n",
       "      <td>No</td>\n",
       "      <td>Month-to-month</td>\n",
       "      <td>Yes</td>\n",
       "      <td>Electronic check</td>\n",
       "      <td>106.75</td>\n",
       "      <td>6252.9</td>\n",
       "      <td>Yes</td>\n",
       "    </tr>\n",
       "  </tbody>\n",
       "</table>\n",
       "<p>1 rows × 21 columns</p>\n",
       "</div>"
      ],
      "text/plain": [
       "      customerID gender SeniorCitizen Partner Dependents tenure PhoneService  \\\n",
       "5544  9572-MTILT   Male             0     Yes         No     59          Yes   \n",
       "\n",
       "     MultipleLines InternetService OnlineSecurity  ... DeviceProtection  \\\n",
       "5544           Yes     Fiber optic            Yes  ...              Yes   \n",
       "\n",
       "     TechSupport StreamingTV StreamingMovies        Contract PaperlessBilling  \\\n",
       "5544         Yes         Yes              No  Month-to-month              Yes   \n",
       "\n",
       "         PaymentMethod MonthlyCharges TotalCharges Churn  \n",
       "5544  Electronic check         106.75       6252.9   Yes  \n",
       "\n",
       "[1 rows x 21 columns]"
      ]
     },
     "metadata": {},
     "output_type": "display_data"
    }
   ],
   "source": [
    "# Step 3: Display result\n",
    "print(\"Customer paying the highest monthly charge without StreamingMovies:\")\n",
    "print(\"MonthlyCharges:\", highest_no_movies[\"MonthlyCharges\"])\n",
    "display(highest_no_movies.to_frame().T)"
   ]
  },
  {
   "cell_type": "markdown",
   "metadata": {},
   "source": [
    "#### Histograma do tempo de permanência\n",
    "\n",
    "O histograma é um gráfico que mostra as frequências de uma determinada informação. No nosso caso, vamos construir histogramas que mostram o tempo de permanência no serviço (tenure). Vamos agrupar os valores em bins, cujo número deve ser definido pela Regra de Sturges. \n",
    "\n",
    "- Plote dois histogramas, um para os clientes que evadiram do serviço e outro para os que continuaram sua assinatura\n",
    "- Rotule os eixos e utilize boas práticas de visualização da informação\n",
    "- Faça a seguinte análise: as distribuições são diferentes?\n",
    "\n",
    "Documentação completa disponível em: https://matplotlib.org/stable/api/_as_gen/matplotlib.pyplot.hist.html\n"
   ]
  },
  {
   "cell_type": "code",
   "execution_count": 22,
   "metadata": {},
   "outputs": [
    {
     "data": {
      "image/png": "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",
      "text/plain": [
       "<Figure size 1000x500 with 1 Axes>"
      ]
     },
     "metadata": {},
     "output_type": "display_data"
    },
    {
     "name": "stdout",
     "output_type": "stream",
     "text": [
      "👉 Analysis: The distributions are different.\n",
      "- Churned customers are concentrated in the first months (low tenure).\n",
      "- Retained customers are spread across all tenures, with peaks at long-term customers (60–72 months).\n"
     ]
    }
   ],
   "source": [
    "# Number of bins using Sturges' rule\n",
    "n = len(df_clean)\n",
    "bins = int(1 + np.log2(n))\n",
    "\n",
    "# Split churned vs retained\n",
    "tenure_churned = df_clean[df_clean[\"Churn\"] == \"Yes\"][\"tenure\"]\n",
    "tenure_retained = df_clean[df_clean[\"Churn\"] == \"No\"][\"tenure\"]\n",
    "\n",
    "# Plot\n",
    "plt.figure(figsize=(10,5))\n",
    "plt.hist(tenure_churned, bins=bins, alpha=0.6, color=\"red\", label=\"Churned\")\n",
    "plt.hist(tenure_retained, bins=bins, alpha=0.6, color=\"green\", label=\"Retained\")\n",
    "\n",
    "plt.title(\"Histogram of Tenure by Churn\")\n",
    "plt.xlabel(\"Tenure (months)\")\n",
    "plt.ylabel(\"Number of Customers\")\n",
    "plt.grid(axis=\"y\", linestyle=\"--\", alpha=0.7)\n",
    "plt.legend()\n",
    "plt.show()\n",
    "\n",
    "# Analysis\n",
    "print(\"👉 Analysis: The distributions are different.\")\n",
    "print(\"- Churned customers are concentrated in the first months (low tenure).\")\n",
    "print(\"- Retained customers are spread across all tenures, with peaks at long-term customers (60–72 months).\")"
   ]
  },
  {
   "cell_type": "markdown",
   "metadata": {},
   "source": [
    "#### Boxplot das Cobranças Mensais\n",
    "\n",
    "Como é a distribuição das cobranças mensais? O gráfico boxplot pode nos ajudar nesta questão.\n",
    "\n",
    "O boxplot ilustra informações importantes:\n",
    "- Mediana\n",
    "- Limite inferior (menor valor)\n",
    "- Limite superior (maior valor)\n",
    "- Q1 (primeiro quartil, 25% dos dados)\n",
    "- Q3 (terceiro quartil, 75% dos dados)\n",
    "- Outliers (se houver)\n",
    "\n",
    "A distribuição dos exemplos no dataset é simétrica no tocante ao atributo em questão? Elabore um parágrafo que justifique as conclusões obtidas a partir da análise do boxplot.\n",
    "\n",
    "Documentação completa disponível em: https://matplotlib.org/stable/api/_as_gen/matplotlib.pyplot.boxplot.html"
   ]
  },
  {
   "cell_type": "code",
   "execution_count": null,
   "metadata": {},
   "outputs": [],
   "source": [
    "# Entry vector: Monthly Charges\n"
    "monthly_charges = df_clean["MonthlyCharges"]\n"
    "\n"
    "# Statistics to be displayed\n"
    "Q1 = np.percentile(monthly_charges, 25)\n"
    "Q3 = np.percentile(monthly_charges, 75)\n"
    "median = np.median(monthly_charges)\n"
    "\n"
    "# plot\n"
    "plt.boxplot(monthly_charges, notch=True, patch_artist=True, \n"
                "boxprops=dict(facecolor="lightblue"),\n"
                "medianprops=dict(color="blue"))\n"
    "plt.axhline(median, color="blue", linestyle="-", label=f"Median = {median:.2f}")\n"
    "plt.axhline(Q1, color="yellow", linestyle="-", label=f"Lower Quartile = {Q1:.2f}")\n"
    "plt.axhline(Q3, color="red", linestyle="-", label=f"Upper Quartile = {Q3:.2f}")\n"
    "\n"
    "plt.title("Monthly Charges")\n"
    "plt.grid(axis="y", linestyle="--", alpha=0.7)\n"
    "plt.legend()\n"
    "plt.plot()\n"
    "\n"
    "# Analysis\n"
    "print("👉 Analysis: the distribution is asymetric")\n"
    "print("- The median is slightly closer to the upper quartile")\n"
    "print("- The whiskers are unbalanced: upper whisker is bigger than the lower")\n"
    "print("Conclusion:  the plot shows that there is more variability in the lower charges")"
   ]
  },
  {
   "cell_type": "markdown",
   "metadata": {},
   "source": [
    "#### Taxa de Churn\n",
    "\n",
    "- Qual a taxa de churn para cada perfil de tipo de pagamento mensal? Há diferenças?"
   ]
  },
  {
   "cell_type": "code",
   "execution_count": null,
   "metadata": {},
   "outputs": [],
   "source": []
  },
  {
   "cell_type": "markdown",
   "metadata": {},
   "source": [
    "#### Avaliação de Hipóteses\n",
    "\n",
    "Analise as seguintes hipóteses, elaborando gráficos e consulta aos dados para embasar suas justificativas:\n",
    "\n",
    "- Hipótese 1: \"Clientes que optaram por serviços como TechSupport (suporte técnico) têm uma probabilidade menor de churn.\"\n",
    "- Hipótese 2: \"A taxa de churn é significativamente maior para clientes com contratos de curto prazo em comparação com aqueles com contratos de longo prazo.\"\n",
    "- Hipótese 3: \"Clientes com múltiplos serviços, com dependentes e que fazem backup online possuem baixa probabilidade de trocar de prestadora\""
   ]
  },
  {
   "cell_type": "code",
   "execution_count": null,
   "metadata": {},
   "outputs": [],
   "source": []
  },
  {
   "cell_type": "code",
   "execution_count": null,
   "metadata": {},
   "outputs": [],
   "source": []
  },
  {
   "cell_type": "code",
   "execution_count": null,
   "metadata": {},
   "outputs": [],
   "source": []
  },
  {
   "cell_type": "markdown",
   "metadata": {},
   "source": [
    "#### Perfil do Cliente de Risco\n",
    "\n",
    "Crie uma série de 3 a 4 gráficos conectados que, juntos, respondam à seguinte pergunta:\n",
    "\n",
    "_**Qual é o perfil do cliente com alta probabilidade de churn e o que mais o influencia a sair?**_\n",
    "\n",
    "1. Visualização da Distribuição de Permanência (Tenure)  \n",
    "- Gráfico: Histograma ou gráfico de densidade comparando o tempo de permanência (tenure) de clientes que saíram (Churn = Yes) com o de clientes que ficaram (Churn = No).\n",
    "- Objetivo: Mostrar visualmente se o churn é mais comum entre clientes novos ou antigos.\n",
    "\n",
    "2. Análise da Relação entre Tipo de Contrato e Evasão\n",
    "- Gráfico: Gráfico de barras agrupadas ou empilhadas que mostre a taxa de churn para cada tipo de contrato (Monthly, One year, Two year).\n",
    "- Objetivo: Demonstrar o impacto do tipo de contrato na decisão do cliente de sair.\n",
    "\n",
    "3. Combinação de Variáveis: Preços e Serviços\n",
    "- Gráfico: Gráfico de dispersão (scatter plot) ou um gráfico de box plot que combine duas variáveis-chave, como MonthlyCharges (cobranças mensais) e o tipo de serviço de internet (InternetService), segmentado pela variável Churn.\n",
    "- Objetivo: Revelar se clientes que pagam mais por um tipo específico de serviço (ex: Fibra Óptica) têm uma taxa de churn diferente. Isso pode sugerir, por exemplo, que a insatisfação está ligada à qualidade de um serviço mais caro.\n",
    "\n",
    "\n",
    "Escreva um breve parágrafo resumindo as descobertas. A resposta deve conectar as visualizações, respondendo à pergunta inicial sobre o perfil do cliente em risco de forma coesa e baseada nas evidências visuais."
   ]
  },
  {
   "cell_type": "code",
   "execution_count": null,
   "metadata": {},
   "outputs": [],
   "source": []
  },
  {
   "cell_type": "markdown",
   "metadata": {},
   "source": [
    "#### Gênero do Cliente\n",
    "\n",
    "Conforme a documentação da base de dados, há dois valores possíveis para o gênero do cliente, são eles:  \n",
    "    - M: Masculino  \n",
    "    - F: Feminino  \n",
    "    \n",
    "Tal como dispostos, segundo strings, essas informações não ajudam modelos que lidam apenas com dados numéricos. É necessário efetuar uma codificação para representar tais valores. Assim, codifique a coluna gender conforme a abordagem One-Hot Encoding e elimine a coluna original do dataset.\n",
    "\n",
    "Referências:\n",
    "- https://towardsdatascience.com/what-is-one-hot-encoding-and-how-to-use-pandas-get-dummies-function-922eb9bd4970\n",
    "- https://scikit-learn.org/stable/modules/generated/sklearn.preprocessing.OneHotEncoder.html"
   ]
  },
  {
   "cell_type": "code",
   "execution_count": null,
   "metadata": {},
   "outputs": [],
   "source": []
  },
  {
   "cell_type": "markdown",
   "metadata": {},
   "source": [
    "#### Codificação dos Atributos\n",
    "\n",
    "- Se o atributo tiver duas categorias, repita o processo de codificação conforme proposto anteriormente. \n",
    "- Senão se o atributo tiver entre três e até cinco categorias, utilize Label Encoding.\n",
    "- Em caso contrário, elimine a coluna em questão.\n",
    "\n",
    "Referências:\n",
    "- https://scikit-learn.org/stable/modules/generated/sklearn.preprocessing.LabelEncoder.html\n"
   ]
  },
  {
   "cell_type": "code",
   "execution_count": null,
   "metadata": {},
   "outputs": [],
   "source": []
  },
  {
   "cell_type": "markdown",
   "metadata": {},
   "source": [
    "#### O dataset é balanceado?\n",
    "\n",
    "- Considera-se que o dataset é balanceado se não houver mais de 10% de diferença no quantitativo das classes nele presentes. Faça a avaliação nesses termos. Elabore gráficos que justificam sua resposta.\n",
    "- A partir da resposta considerada, apresente quatro métricas de desempenho a serem utilizadas na avaliação comparativa de modelos para esse problema"
   ]
  },
  {
   "cell_type": "code",
   "execution_count": null,
   "metadata": {},
   "outputs": [],
   "source": []
  },
  {
   "cell_type": "markdown",
   "metadata": {},
   "source": [
    "## Parte 2 - Tarefa de Aprendizado de Máquina\n",
    "\n",
    "Abordaremos o problema da previsão de churn como uma tarefa de classificação binária."
   ]
  },
  {
   "cell_type": "markdown",
   "metadata": {},
   "source": [
    "#### Preparação dos dados para Validação Cruzada Holdout\n",
    "\n",
    "- Vamos separar o atributo alvo (Age) dos atributores preditores. \n",
    "  - Atributos preditores devem ser armazenados em uma variável denominada X  \n",
    "  - Atributo alvo deve ser armazenado em uma variável denominada y\n",
    "- Qual o tipo de entrada do modelo?\n",
    "- Vamos efetuar uma partição do tipo holdout estratificada 70/30\n",
    "\n",
    "Documentação completa disponível em: https://scikit-learn.org/stable/modules/generated/sklearn.model_selection.train_test_split.html"
   ]
  },
  {
   "cell_type": "code",
   "execution_count": null,
   "metadata": {},
   "outputs": [],
   "source": []
  },
  {
   "cell_type": "markdown",
   "metadata": {},
   "source": [
    "#### Treinar um modelo de regressão logística para o problema\n",
    "\n",
    "A Regressão Logística é uma técnica de Aprendizado de Máquina que tem como objetivo produzir, a partir de um conjunto de observações, um modelo que permita a predição de valores tomados por uma variável categórica, frequentemente binária, a partir de uma série de variáveis explicativas.\n",
    "\n",
    "1. Importe o modelo da biblioteca sklearn\n",
    "2. Instancie o modelo com parâmetros padrão (default)\n",
    "3. Execute o algoritmo de treinamento com os dados de treino\n",
    "\n",
    "Documentação completa disponível em: https://scikit-learn.org/stable/modules/generated/sklearn.linear_model.LogisticRegression.html"
   ]
  },
  {
   "cell_type": "code",
   "execution_count": null,
   "metadata": {},
   "outputs": [],
   "source": []
  },
  {
   "cell_type": "markdown",
   "metadata": {},
   "source": [
    "#### Obtendo previsões do modelo\n",
    "\n",
    "1. Selecione um exemplo arbitrário da partição de teste\n",
    "2. Forneça os atributos preditores e obtenha a previsão da churn\n",
    "3. O modelo previu a saída corretamente?"
   ]
  },
  {
   "cell_type": "code",
   "execution_count": null,
   "metadata": {},
   "outputs": [],
   "source": []
  },
  {
   "cell_type": "markdown",
   "metadata": {},
   "source": [
    "#### Avalie o modelo perante o conjunto de testes\n",
    "\n",
    "1. Obtenha as métricas elencadas para o conjunto de testes\n",
    "  * Efetue a importação de tais métricas a partir do pacote sklearn.metrics\n",
    "2. Elabore uma visualização da matriz de confusão normalizada para as previsões do conjunto de testes\n",
    "3. O modelo é bom para o problema? Justifique sua afirmação."
   ]
  },
  {
   "cell_type": "code",
   "execution_count": null,
   "metadata": {},
   "outputs": [],
   "source": []
  },
  {
   "cell_type": "markdown",
   "metadata": {},
   "source": [
    "#### Treinar um modelo de K-Vizinhos Mais Próximos\n",
    "\n",
    "É um algoritmo de Aprendizado de Máquina que baseia-se na média dos valores dos k vizinhos mais próximos a uma dada entrada para produzir uma estimativa para o atributo-alvo. É considerado \"preguiçoso\", mas muito mostra-se vantajoso por possuir um baixo custo computacional.\n",
    "\n",
    "1. Efetue o treinamento do K-Vizinhos mais Próximos, considerando k = 5\n",
    "2. Efetue o teste no modelo e obtenha as métricas de desempenho previamente indicadas.  "
   ]
  },
  {
   "cell_type": "code",
   "execution_count": null,
   "metadata": {},
   "outputs": [],
   "source": []
  },
  {
   "cell_type": "markdown",
   "metadata": {},
   "source": [
    "#### Treinar um modelo de Árvore de Decisão\n",
    "\n",
    "É um modelo de aprendizado de máquina supervisionado, utilizado para problemas de classificação e regressão. Sua estrutura se assemelha a um fluxograma, em que cada nó interno representa um teste em uma atributo dado, cada ramo corresponde a um resultado desse teste, e cada nó folha a uma decisão final ou previsão. Destaca-se por sua interpretabilidade\n",
    "\n",
    "1. Efetue o treinamento do Árvore de Decisão, utilizando o critério de entropia.\n",
    "2. Efetue o teste no modelo e obtenha as métricas de desempenho previamente indicadas.  \n",
    "3. Plote a árvore de decisão construída."
   ]
  },
  {
   "cell_type": "code",
   "execution_count": null,
   "metadata": {},
   "outputs": [],
   "source": []
  },
  {
   "cell_type": "markdown",
   "metadata": {},
   "source": [
    "#### Síntese dos Resultados\n",
    "\n",
    "- Agrupe as matrizes de confusão obtidas lado a lado\n",
    "- Crie uma tabela com todos os modelos e métricas (Pretty Table)"
   ]
  },
  {
   "cell_type": "code",
   "execution_count": null,
   "metadata": {},
   "outputs": [],
   "source": []
  },
  {
   "cell_type": "code",
   "execution_count": null,
   "metadata": {},
   "outputs": [],
   "source": []
  },
  {
   "cell_type": "markdown",
   "metadata": {},
   "source": [
    "#### Argumente\n",
    "\n",
    "- Qual o melhor modelo para o problema em questão?\n",
    "- Qual o grau de dificuldade da tarefa de aprendizado proposta? Justifique a partir dos elementos e resultados obtidos nas células anteriores."
   ]
  },
  {
   "cell_type": "code",
   "execution_count": null,
   "metadata": {},
   "outputs": [],
   "source": []
  }
 ],
 "metadata": {
  "kernelspec": {
   "display_name": "Python (venv-kagglehub)",
   "language": "python",
   "name": "venv-kagglehub"
  },
  "language_info": {
   "codemirror_mode": {
    "name": "ipython",
    "version": 3
   },
   "file_extension": ".py",
   "mimetype": "text/x-python",
   "name": "python",
   "nbconvert_exporter": "python",
   "pygments_lexer": "ipython3",
   "version": "3.13.5"
  }
 },
 "nbformat": 4,
 "nbformat_minor": 4
}

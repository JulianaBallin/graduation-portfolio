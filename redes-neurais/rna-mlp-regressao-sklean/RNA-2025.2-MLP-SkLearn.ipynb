{
 "cells": [
  {
   "cell_type": "markdown",
   "metadata": {},
   "source": [
    "# Redes Neurais Artificiais 2025.2\n",
    "\n",
    "\n",
    "## Implementação de Redes Neurais com Sci-Kit Learn\n",
    "\n",
    "* Professora: Elloá B. Guedes (ebgcosta@uea.edu.br)\n",
    "\n",
    "\n",
    "### Contexto: Consumo de Combustível\n",
    "\n",
    "O objetivo desta atividade prática é utilizar as ferramentas de Machine Learning no ambiente Python com o uso das bibliotecas pandas e sci-kit learn para prever o consumo de combustível de veículos.\n",
    "\n",
    "### Base de Dados\n",
    "\n",
    "Disponível em: https://archive.ics.uci.edu/ml/datasets/auto+mpg"
   ]
  },
  {
   "cell_type": "markdown",
   "metadata": {},
   "source": [
    "### Bibliotecas\n",
    "\n",
    "Por hábito, a primeira célula do notebook costuma ser reservada para importação de bibliotecas.\n",
    "A cada biblioteca nova acrescida, é necessário executar a célula para atualização e correta execução."
   ]
  },
  {
   "cell_type": "code",
   "execution_count": 71,
   "metadata": {},
   "outputs": [
    {
     "name": "stdout",
     "output_type": "stream",
     "text": [
      "Bibliotecas importadas com sucesso.\n"
     ]
    }
   ],
   "source": [
    "\"\"\"\n",
    "Módulo de importação de bibliotecas essenciais para a atividade de Redes Neurais Artificiais.\n",
    "\n",
    "Este módulo carrega as principais bibliotecas utilizadas ao longo do notebook:\n",
    "- pandas: manipulação e análise de dados\n",
    "- numpy: operações numéricas e matemáticas\n",
    "- matplotlib.pyplot e seaborn: visualização de dados\n",
    "- scikit-learn: criação, treinamento e avaliação de modelos de Machine Learning\n",
    "\"\"\"\n",
    "\n",
    "# Manipulação de dados\n",
    "import pandas as pd\n",
    "import numpy as np\n",
    "\n",
    "# Visualização de dados\n",
    "import matplotlib.pyplot as plt\n",
    "import seaborn as sns\n",
    "\n",
    "# Divisão de dados em treino e teste\n",
    "from sklearn.model_selection import train_test_split\n",
    "\n",
    "# Normalização dos dados\n",
    "from sklearn.preprocessing import StandardScaler\n",
    "\n",
    "# Modelo de Rede Neural Perceptron Multicamadas\n",
    "from sklearn.neural_network import MLPRegressor\n",
    "from sklearn.linear_model import LinearRegression\n",
    "\n",
    "# Métricas de avaliação de regressão\n",
    "from sklearn.metrics import mean_squared_error, r2_score\n",
    "\n",
    "# Configurações visuais\n",
    "sns.set(style=\"whitegrid\")\n",
    "plt.rcParams[\"figure.figsize\"] = (10, 6)\n",
    "\n",
    "# Verificação de importações concluída\n",
    "print(\"Bibliotecas importadas com sucesso.\")\n"
   ]
  },
  {
   "cell_type": "markdown",
   "metadata": {},
   "source": [
    "### Abertura do Dataset\n",
    "\n",
    "Abra o dataset e visualize o seu cabeçalho, isto é, os primeiros exemplos nele contidos.\n",
    "Isto é útil para checar se a importação foi realizada de maneira adequada e se a disposição dos dados está de acordo para os próximos passos do trabalho."
   ]
  },
  {
   "cell_type": "code",
   "execution_count": 72,
   "metadata": {},
   "outputs": [
    {
     "name": "stdout",
     "output_type": "stream",
     "text": [
      "✅ Dataset carregado com sucesso! Exibindo as primeiras linhas:\n",
      "\n"
     ]
    },
    {
     "data": {
      "text/html": [
       "<div>\n",
       "<style scoped>\n",
       "    .dataframe tbody tr th:only-of-type {\n",
       "        vertical-align: middle;\n",
       "    }\n",
       "\n",
       "    .dataframe tbody tr th {\n",
       "        vertical-align: top;\n",
       "    }\n",
       "\n",
       "    .dataframe thead th {\n",
       "        text-align: right;\n",
       "    }\n",
       "</style>\n",
       "<table border=\"1\" class=\"dataframe\">\n",
       "  <thead>\n",
       "    <tr style=\"text-align: right;\">\n",
       "      <th></th>\n",
       "      <th>mpg</th>\n",
       "      <th>cylinders</th>\n",
       "      <th>displacement</th>\n",
       "      <th>horsepower</th>\n",
       "      <th>weight</th>\n",
       "      <th>acceleration</th>\n",
       "      <th>modelyear</th>\n",
       "      <th>origin</th>\n",
       "      <th>name</th>\n",
       "    </tr>\n",
       "  </thead>\n",
       "  <tbody>\n",
       "    <tr>\n",
       "      <th>0</th>\n",
       "      <td>18.0</td>\n",
       "      <td>8.0</td>\n",
       "      <td>307.0</td>\n",
       "      <td>130.0</td>\n",
       "      <td>3504.0</td>\n",
       "      <td>12.0</td>\n",
       "      <td>70.0</td>\n",
       "      <td>1.0</td>\n",
       "      <td>chevrolet chevelle malibu</td>\n",
       "    </tr>\n",
       "    <tr>\n",
       "      <th>1</th>\n",
       "      <td>15.0</td>\n",
       "      <td>8.0</td>\n",
       "      <td>350.0</td>\n",
       "      <td>165.0</td>\n",
       "      <td>3693.0</td>\n",
       "      <td>11.5</td>\n",
       "      <td>70.0</td>\n",
       "      <td>1.0</td>\n",
       "      <td>buick skylark 320</td>\n",
       "    </tr>\n",
       "    <tr>\n",
       "      <th>2</th>\n",
       "      <td>18.0</td>\n",
       "      <td>8.0</td>\n",
       "      <td>318.0</td>\n",
       "      <td>150.0</td>\n",
       "      <td>3436.0</td>\n",
       "      <td>11.0</td>\n",
       "      <td>70.0</td>\n",
       "      <td>1.0</td>\n",
       "      <td>plymouth satellite</td>\n",
       "    </tr>\n",
       "    <tr>\n",
       "      <th>3</th>\n",
       "      <td>16.0</td>\n",
       "      <td>8.0</td>\n",
       "      <td>304.0</td>\n",
       "      <td>150.0</td>\n",
       "      <td>3433.0</td>\n",
       "      <td>12.0</td>\n",
       "      <td>70.0</td>\n",
       "      <td>1.0</td>\n",
       "      <td>amc rebel sst</td>\n",
       "    </tr>\n",
       "    <tr>\n",
       "      <th>4</th>\n",
       "      <td>17.0</td>\n",
       "      <td>8.0</td>\n",
       "      <td>302.0</td>\n",
       "      <td>140.0</td>\n",
       "      <td>3449.0</td>\n",
       "      <td>10.5</td>\n",
       "      <td>70.0</td>\n",
       "      <td>1.0</td>\n",
       "      <td>ford torino</td>\n",
       "    </tr>\n",
       "  </tbody>\n",
       "</table>\n",
       "</div>"
      ],
      "text/plain": [
       "    mpg  cylinders  displacement  horsepower  weight  acceleration  modelyear  \\\n",
       "0  18.0        8.0         307.0       130.0  3504.0          12.0       70.0   \n",
       "1  15.0        8.0         350.0       165.0  3693.0          11.5       70.0   \n",
       "2  18.0        8.0         318.0       150.0  3436.0          11.0       70.0   \n",
       "3  16.0        8.0         304.0       150.0  3433.0          12.0       70.0   \n",
       "4  17.0        8.0         302.0       140.0  3449.0          10.5       70.0   \n",
       "\n",
       "   origin                       name  \n",
       "0     1.0  chevrolet chevelle malibu  \n",
       "1     1.0          buick skylark 320  \n",
       "2     1.0         plymouth satellite  \n",
       "3     1.0              amc rebel sst  \n",
       "4     1.0                ford torino  "
      ]
     },
     "metadata": {},
     "output_type": "display_data"
    }
   ],
   "source": [
    "\"\"\"\n",
    "Função: Carregamento e visualização inicial do dataset Auto MPG.\n",
    "\n",
    "Esta célula realiza a leitura correta do arquivo CSV usando o separador ';',\n",
    "exibe as primeiras linhas para verificar a importação e mostra informações gerais\n",
    "sobre a estrutura do conjunto de dados.\n",
    "\"\"\"\n",
    "\n",
    "# [ACT] Carregar o dataset com separador correto ';'\n",
    "df = pd.read_csv(\"autompg.csv\", sep=';')\n",
    "\n",
    "# [ASSERT] Exibir as 5 primeiras linhas do dataset\n",
    "print(\"✅ Dataset carregado com sucesso! Exibindo as primeiras linhas:\\n\")\n",
    "display(df.head())"
   ]
  },
  {
   "cell_type": "markdown",
   "metadata": {},
   "source": [
    "### Conhecendo o dataset\n",
    "\n",
    "Para praticar conceitos relativos à exploração do conjunto de dados, utilize as células a seguir para prover respostas para as seguintes perguntas:\n",
    "\n",
    "1. Quantos exemplos há no dataset?\n",
    "2. Quais os atributos existentes no dataset?\n",
    "3. Quais os nomes dos carros existentes no dataset?\n",
    "4. Quais as características do 'chevrolet camaro'?\n",
    "5. Qual a média de consumo, em galões por litro, dos carros existentes no dataset?"
   ]
  },
  {
   "cell_type": "code",
   "execution_count": 73,
   "metadata": {
    "collapsed": true,
    "jupyter": {
     "outputs_hidden": true
    }
   },
   "outputs": [
    {
     "name": "stdout",
     "output_type": "stream",
     "text": [
      "📊 O dataset possui 406 exemplos (linhas).\n"
     ]
    }
   ],
   "source": [
    "\"\"\"\n",
    "Função: Exibir a quantidade total de exemplos no dataset.\n",
    "\n",
    "Esta célula retorna o número de registros (linhas) contidos na base de dados,\n",
    "permitindo avaliar o tamanho da amostra disponível para treinamento e teste.\n",
    "\"\"\"\n",
    "\n",
    "# [ACT] Obter o número total de exemplos\n",
    "total_exemplos = df.shape[0]\n",
    "\n",
    "# [ASSERT] Exibir o resultado\n",
    "print(f\"📊 O dataset possui {total_exemplos} exemplos (linhas).\")\n"
   ]
  },
  {
   "cell_type": "code",
   "execution_count": 74,
   "metadata": {
    "collapsed": true,
    "jupyter": {
     "outputs_hidden": true
    }
   },
   "outputs": [
    {
     "name": "stdout",
     "output_type": "stream",
     "text": [
      "📊 Informações gerais do dataset:\n",
      "\n"
     ]
    },
    {
     "data": {
      "text/html": [
       "<style type=\"text/css\">\n",
       "#T_b4e33 th {\n",
       "  background-color: #2E8B57;\n",
       "  color: white;\n",
       "  font-weight: bold;\n",
       "}\n",
       "#T_b4e33 td {\n",
       "  padding: 6px 12px;\n",
       "}\n",
       "</style>\n",
       "<table id=\"T_b4e33\">\n",
       "  <caption>Resumo Estrutural do Dataset</caption>\n",
       "  <thead>\n",
       "    <tr>\n",
       "      <th class=\"blank level0\" >&nbsp;</th>\n",
       "      <th id=\"T_b4e33_level0_col0\" class=\"col_heading level0 col0\" >Coluna</th>\n",
       "      <th id=\"T_b4e33_level0_col1\" class=\"col_heading level0 col1\" >Valores Não Nulos</th>\n",
       "      <th id=\"T_b4e33_level0_col2\" class=\"col_heading level0 col2\" >Total de Linhas</th>\n",
       "      <th id=\"T_b4e33_level0_col3\" class=\"col_heading level0 col3\" >Valores Nulos</th>\n",
       "      <th id=\"T_b4e33_level0_col4\" class=\"col_heading level0 col4\" >Tipo de Dado</th>\n",
       "    </tr>\n",
       "  </thead>\n",
       "  <tbody>\n",
       "    <tr>\n",
       "      <th id=\"T_b4e33_level0_row0\" class=\"row_heading level0 row0\" >0</th>\n",
       "      <td id=\"T_b4e33_row0_col0\" class=\"data row0 col0\" >mpg</td>\n",
       "      <td id=\"T_b4e33_row0_col1\" class=\"data row0 col1\" >398</td>\n",
       "      <td id=\"T_b4e33_row0_col2\" class=\"data row0 col2\" >406</td>\n",
       "      <td id=\"T_b4e33_row0_col3\" class=\"data row0 col3\" >8</td>\n",
       "      <td id=\"T_b4e33_row0_col4\" class=\"data row0 col4\" >float64</td>\n",
       "    </tr>\n",
       "    <tr>\n",
       "      <th id=\"T_b4e33_level0_row1\" class=\"row_heading level0 row1\" >1</th>\n",
       "      <td id=\"T_b4e33_row1_col0\" class=\"data row1 col0\" >cylinders</td>\n",
       "      <td id=\"T_b4e33_row1_col1\" class=\"data row1 col1\" >406</td>\n",
       "      <td id=\"T_b4e33_row1_col2\" class=\"data row1 col2\" >406</td>\n",
       "      <td id=\"T_b4e33_row1_col3\" class=\"data row1 col3\" >0</td>\n",
       "      <td id=\"T_b4e33_row1_col4\" class=\"data row1 col4\" >float64</td>\n",
       "    </tr>\n",
       "    <tr>\n",
       "      <th id=\"T_b4e33_level0_row2\" class=\"row_heading level0 row2\" >2</th>\n",
       "      <td id=\"T_b4e33_row2_col0\" class=\"data row2 col0\" >displacement</td>\n",
       "      <td id=\"T_b4e33_row2_col1\" class=\"data row2 col1\" >406</td>\n",
       "      <td id=\"T_b4e33_row2_col2\" class=\"data row2 col2\" >406</td>\n",
       "      <td id=\"T_b4e33_row2_col3\" class=\"data row2 col3\" >0</td>\n",
       "      <td id=\"T_b4e33_row2_col4\" class=\"data row2 col4\" >float64</td>\n",
       "    </tr>\n",
       "    <tr>\n",
       "      <th id=\"T_b4e33_level0_row3\" class=\"row_heading level0 row3\" >3</th>\n",
       "      <td id=\"T_b4e33_row3_col0\" class=\"data row3 col0\" >horsepower</td>\n",
       "      <td id=\"T_b4e33_row3_col1\" class=\"data row3 col1\" >400</td>\n",
       "      <td id=\"T_b4e33_row3_col2\" class=\"data row3 col2\" >406</td>\n",
       "      <td id=\"T_b4e33_row3_col3\" class=\"data row3 col3\" >6</td>\n",
       "      <td id=\"T_b4e33_row3_col4\" class=\"data row3 col4\" >float64</td>\n",
       "    </tr>\n",
       "    <tr>\n",
       "      <th id=\"T_b4e33_level0_row4\" class=\"row_heading level0 row4\" >4</th>\n",
       "      <td id=\"T_b4e33_row4_col0\" class=\"data row4 col0\" >weight</td>\n",
       "      <td id=\"T_b4e33_row4_col1\" class=\"data row4 col1\" >406</td>\n",
       "      <td id=\"T_b4e33_row4_col2\" class=\"data row4 col2\" >406</td>\n",
       "      <td id=\"T_b4e33_row4_col3\" class=\"data row4 col3\" >0</td>\n",
       "      <td id=\"T_b4e33_row4_col4\" class=\"data row4 col4\" >float64</td>\n",
       "    </tr>\n",
       "    <tr>\n",
       "      <th id=\"T_b4e33_level0_row5\" class=\"row_heading level0 row5\" >5</th>\n",
       "      <td id=\"T_b4e33_row5_col0\" class=\"data row5 col0\" >acceleration</td>\n",
       "      <td id=\"T_b4e33_row5_col1\" class=\"data row5 col1\" >406</td>\n",
       "      <td id=\"T_b4e33_row5_col2\" class=\"data row5 col2\" >406</td>\n",
       "      <td id=\"T_b4e33_row5_col3\" class=\"data row5 col3\" >0</td>\n",
       "      <td id=\"T_b4e33_row5_col4\" class=\"data row5 col4\" >float64</td>\n",
       "    </tr>\n",
       "    <tr>\n",
       "      <th id=\"T_b4e33_level0_row6\" class=\"row_heading level0 row6\" >6</th>\n",
       "      <td id=\"T_b4e33_row6_col0\" class=\"data row6 col0\" >modelyear</td>\n",
       "      <td id=\"T_b4e33_row6_col1\" class=\"data row6 col1\" >406</td>\n",
       "      <td id=\"T_b4e33_row6_col2\" class=\"data row6 col2\" >406</td>\n",
       "      <td id=\"T_b4e33_row6_col3\" class=\"data row6 col3\" >0</td>\n",
       "      <td id=\"T_b4e33_row6_col4\" class=\"data row6 col4\" >float64</td>\n",
       "    </tr>\n",
       "    <tr>\n",
       "      <th id=\"T_b4e33_level0_row7\" class=\"row_heading level0 row7\" >7</th>\n",
       "      <td id=\"T_b4e33_row7_col0\" class=\"data row7 col0\" >origin</td>\n",
       "      <td id=\"T_b4e33_row7_col1\" class=\"data row7 col1\" >406</td>\n",
       "      <td id=\"T_b4e33_row7_col2\" class=\"data row7 col2\" >406</td>\n",
       "      <td id=\"T_b4e33_row7_col3\" class=\"data row7 col3\" >0</td>\n",
       "      <td id=\"T_b4e33_row7_col4\" class=\"data row7 col4\" >float64</td>\n",
       "    </tr>\n",
       "    <tr>\n",
       "      <th id=\"T_b4e33_level0_row8\" class=\"row_heading level0 row8\" >8</th>\n",
       "      <td id=\"T_b4e33_row8_col0\" class=\"data row8 col0\" >name</td>\n",
       "      <td id=\"T_b4e33_row8_col1\" class=\"data row8 col1\" >406</td>\n",
       "      <td id=\"T_b4e33_row8_col2\" class=\"data row8 col2\" >406</td>\n",
       "      <td id=\"T_b4e33_row8_col3\" class=\"data row8 col3\" >0</td>\n",
       "      <td id=\"T_b4e33_row8_col4\" class=\"data row8 col4\" >object</td>\n",
       "    </tr>\n",
       "  </tbody>\n",
       "</table>\n"
      ],
      "text/plain": [
       "<pandas.io.formats.style.Styler at 0x78931220d130>"
      ]
     },
     "metadata": {},
     "output_type": "display_data"
    }
   ],
   "source": [
    "\"\"\"\n",
    "Função: Exibir todos os atributos (colunas) disponíveis no dataset em formato de tabela.\n",
    "\n",
    "Além de listar os nomes das colunas, esta célula exibe o tipo de dado e a quantidade\n",
    "de valores não nulos em cada uma delas.\n",
    "\"\"\"\n",
    "\n",
    "# [ACT] Criar uma tabela com as principais informações do dataset\n",
    "info_tabela = pd.DataFrame({\n",
    "    \"Coluna\": df.columns,\n",
    "    \"Valores Não Nulos\": df.count().values,\n",
    "    \"Total de Linhas\": [df.shape[0]] * len(df.columns),\n",
    "    \"Valores Nulos\": df.isnull().sum().values,\n",
    "    \"Tipo de Dado\": df.dtypes.values\n",
    "})\n",
    "\n",
    "# [ASSERT] Exibir a tabela de informações gerais\n",
    "print(\"📊 Informações gerais do dataset:\\n\")\n",
    "display(info_tabela.style.set_table_styles(\n",
    "    [\n",
    "        {'selector': 'th', 'props': [('background-color', '#2E8B57'), ('color', 'white'), ('font-weight', 'bold')]},\n",
    "        {'selector': 'td', 'props': [('padding', '6px 12px')]}\n",
    "    ]\n",
    ").set_caption(\"Resumo Estrutural do Dataset\"))\n"
   ]
  },
  {
   "cell_type": "code",
   "execution_count": 75,
   "metadata": {
    "collapsed": true,
    "jupyter": {
     "outputs_hidden": true
    }
   },
   "outputs": [
    {
     "name": "stdout",
     "output_type": "stream",
     "text": [
      "🚗 Nomes de carros no dataset:\n",
      "\n",
      "- chevrolet chevelle malibu\n",
      "- buick skylark 320\n",
      "- plymouth satellite\n",
      "- amc rebel sst\n",
      "- ford torino\n",
      "- ford galaxie 500\n",
      "- chevrolet impala\n",
      "- plymouth fury iii\n",
      "- pontiac catalina\n",
      "- amc ambassador dpl\n",
      "- citroen ds-21 pallas\n",
      "- chevrolet chevelle concours (sw)\n",
      "- ford torino (sw)\n",
      "- plymouth satellite (sw)\n",
      "- amc rebel sst (sw)\n",
      "- dodge challenger se\n",
      "- plymouth 'cuda 340\n",
      "- ford mustang boss 302\n",
      "- chevrolet monte carlo\n",
      "- buick estate wagon (sw)\n",
      "- toyota corona mark ii\n",
      "- plymouth duster\n",
      "- amc hornet\n",
      "- ford maverick\n",
      "- datsun pl510\n",
      "- volkswagen 1131 deluxe sedan\n",
      "- peugeot 504\n",
      "- audi 100 ls\n",
      "- saab 99e\n",
      "- bmw 2002\n",
      "- amc gremlin\n",
      "- ford f250\n",
      "- chevy c20\n",
      "- dodge d200\n",
      "- hi 1200d\n",
      "- chevrolet vega 2300\n",
      "- toyota corona\n",
      "- ford pinto\n",
      "- volkswagen super beetle 117\n",
      "- plymouth satellite custom\n",
      "- ford torino 500\n",
      "- amc matador\n",
      "- pontiac catalina brougham\n",
      "- dodge monaco (sw)\n",
      "- ford country squire (sw)\n",
      "- pontiac safari (sw)\n",
      "- amc hornet sportabout (sw)\n",
      "- chevrolet vega (sw)\n",
      "- pontiac firebird\n",
      "- ford mustang\n",
      "- mercury capri 2000\n",
      "- opel 1900\n",
      "- peugeot 304\n",
      "- fiat 124b\n",
      "- toyota corolla 1200\n",
      "- datsun 1200\n",
      "- volkswagen model 111\n",
      "- plymouth cricket\n",
      "- toyota corona hardtop\n",
      "- dodge colt hardtop\n",
      "- volkswagen type 3\n",
      "- chevrolet vega\n",
      "- ford pinto runabout\n",
      "- amc ambassador sst\n",
      "- mercury marquis\n",
      "- buick lesabre custom\n",
      "- oldsmobile delta 88 royale\n",
      "- chrysler newport royal\n",
      "- mazda rx2 coupe\n",
      "- amc matador (sw)\n",
      "- ford gran torino (sw)\n",
      "- plymouth satellite custom (sw)\n",
      "- volvo 145e (sw)\n",
      "- volkswagen 411 (sw)\n",
      "- peugeot 504 (sw)\n",
      "- renault 12 (sw)\n",
      "- ford pinto (sw)\n",
      "- datsun 510 (sw)\n",
      "- toyouta corona mark ii (sw)\n",
      "- dodge colt (sw)\n",
      "- toyota corolla 1600 (sw)\n",
      "- buick century 350\n",
      "- chevrolet malibu\n",
      "- ford gran torino\n",
      "- dodge coronet custom\n",
      "- mercury marquis brougham\n",
      "- chevrolet caprice classic\n",
      "- ford ltd\n",
      "- plymouth fury gran sedan\n",
      "- chrysler new yorker brougham\n",
      "- buick electra 225 custom\n",
      "- amc ambassador brougham\n",
      "- plymouth valiant\n",
      "- chevrolet nova custom\n",
      "- volkswagen super beetle\n",
      "- ford country\n",
      "- plymouth custom suburb\n",
      "- oldsmobile vista cruiser\n",
      "- toyota carina\n",
      "- datsun 610\n",
      "- maxda rx3\n",
      "- mercury capri v6\n",
      "- fiat 124 sport coupe\n",
      "- chevrolet monte carlo s\n",
      "- pontiac grand prix\n",
      "- fiat 128\n",
      "- opel manta\n",
      "- audi 100ls\n",
      "- volvo 144ea\n",
      "- dodge dart custom\n",
      "- saab 99le\n",
      "- toyota mark ii\n",
      "- oldsmobile omega\n",
      "- chevrolet nova\n",
      "- datsun b210\n",
      "- chevrolet chevelle malibu classic\n",
      "- plymouth satellite sebring\n",
      "- buick century luxus (sw)\n",
      "- dodge coronet custom (sw)\n",
      "- audi fox\n",
      "- volkswagen dasher\n",
      "- datsun 710\n",
      "- dodge colt\n",
      "- fiat 124 tc\n",
      "- honda civic\n",
      "- subaru\n",
      "- fiat x1.9\n",
      "- plymouth valiant custom\n",
      "- mercury monarch\n",
      "- chevrolet bel air\n",
      "- plymouth grand fury\n",
      "- buick century\n",
      "- chevroelt chevelle malibu\n",
      "- plymouth fury\n",
      "- buick skyhawk\n",
      "- chevrolet monza 2+2\n",
      "- ford mustang ii\n",
      "- toyota corolla\n",
      "- pontiac astro\n",
      "- volkswagen rabbit\n",
      "- amc pacer\n",
      "- volvo 244dl\n",
      "- honda civic cvcc\n",
      "- fiat 131\n",
      "- capri ii\n",
      "- renault 12tl\n",
      "- dodge coronet brougham\n",
      "- chevrolet chevette\n",
      "- chevrolet woody\n",
      "- vw rabbit\n",
      "- dodge aspen se\n",
      "- ford granada ghia\n",
      "- pontiac ventura sj\n",
      "- amc pacer d/l\n",
      "- datsun b-210\n",
      "- volvo 245\n",
      "- plymouth volare premier v8\n",
      "- mercedes-benz 280s\n",
      "- cadillac seville\n",
      "- chevy c10\n",
      "- ford f108\n",
      "- dodge d100\n",
      "- honda accord cvcc\n",
      "- buick opel isuzu deluxe\n",
      "- renault 5 gtl\n",
      "- plymouth arrow gs\n",
      "- datsun f-10 hatchback\n",
      "- oldsmobile cutlass supreme\n",
      "- dodge monaco brougham\n",
      "- mercury cougar brougham\n",
      "- chevrolet concours\n",
      "- buick skylark\n",
      "- plymouth volare custom\n",
      "- ford granada\n",
      "- pontiac grand prix lj\n",
      "- chevrolet monte carlo landau\n",
      "- chrysler cordoba\n",
      "- ford thunderbird\n",
      "- volkswagen rabbit custom\n",
      "- pontiac sunbird coupe\n",
      "- toyota corolla liftback\n",
      "- ford mustang ii 2+2\n",
      "- dodge colt m/m\n",
      "- subaru dl\n",
      "- datsun 810\n",
      "- bmw 320i\n",
      "- mazda rx-4\n",
      "- volkswagen rabbit custom diesel\n",
      "- ford fiesta\n",
      "- mazda glc deluxe\n",
      "- datsun b210 gx\n",
      "- oldsmobile cutlass salon brougham\n",
      "- dodge diplomat\n",
      "- mercury monarch ghia\n",
      "- pontiac phoenix lj\n",
      "- ford fairmont (auto)\n",
      "- ford fairmont (man)\n",
      "- plymouth volare\n",
      "- amc concord\n",
      "- buick century special\n",
      "- mercury zephyr\n",
      "- dodge aspen\n",
      "- amc concord d/l\n",
      "- buick regal sport coupe (turbo)\n",
      "- ford futura\n",
      "- dodge magnum xe\n",
      "- datsun 510\n",
      "- dodge omni\n",
      "- toyota celica gt liftback\n",
      "- plymouth sapporo\n",
      "- oldsmobile starfire sx\n",
      "- datsun 200-sx\n",
      "- audi 5000\n",
      "- volvo 264gl\n",
      "- saab 99gle\n",
      "- peugeot 604sl\n",
      "- volkswagen scirocco\n",
      "- honda accord lx\n",
      "- pontiac lemans v6\n",
      "- mercury zephyr 6\n",
      "- ford fairmont 4\n",
      "- amc concord dl 6\n",
      "- dodge aspen 6\n",
      "- ford ltd landau\n",
      "- mercury grand marquis\n",
      "- dodge st. regis\n",
      "- chevrolet malibu classic (sw)\n",
      "- chrysler lebaron town @ country (sw)\n",
      "- vw rabbit custom\n",
      "- maxda glc deluxe\n",
      "- dodge colt hatchback custom\n",
      "- amc spirit dl\n",
      "- mercedes benz 300d\n",
      "- cadillac eldorado\n",
      "- plymouth horizon\n",
      "- plymouth horizon tc3\n",
      "- datsun 210\n",
      "- fiat strada custom\n",
      "- buick skylark limited\n",
      "- chevrolet citation\n",
      "- oldsmobile omega brougham\n",
      "- pontiac phoenix\n",
      "- toyota corolla tercel\n",
      "- datsun 310\n",
      "- ford fairmont\n",
      "- audi 4000\n",
      "- toyota corona liftback\n",
      "- mazda 626\n",
      "- datsun 510 hatchback\n",
      "- mazda glc\n",
      "- vw rabbit c (diesel)\n",
      "- vw dasher (diesel)\n",
      "- audi 5000s (diesel)\n",
      "- mercedes-benz 240d\n",
      "- honda civic 1500 gl\n",
      "- renault lecar deluxe\n",
      "- vokswagen rabbit\n",
      "- datsun 280-zx\n",
      "- mazda rx-7 gs\n",
      "- triumph tr7 coupe\n",
      "- ford mustang cobra\n",
      "- honda accord\n",
      "- plymouth reliant\n",
      "- dodge aries wagon (sw)\n",
      "- toyota starlet\n",
      "- plymouth champ\n",
      "- honda civic 1300\n",
      "- datsun 210 mpg\n",
      "- toyota tercel\n",
      "- mazda glc 4\n",
      "- plymouth horizon 4\n",
      "- ford escort 4w\n",
      "- ford escort 2h\n",
      "- volkswagen jetta\n",
      "- renault 18i\n",
      "- honda prelude\n",
      "- datsun 200sx\n",
      "- peugeot 505s turbo diesel\n",
      "- saab 900s\n",
      "- volvo diesel\n",
      "- toyota cressida\n",
      "- datsun 810 maxima\n",
      "- oldsmobile cutlass ls\n",
      "- ford granada gl\n",
      "- chrysler lebaron salon\n",
      "- chevrolet cavalier\n",
      "- chevrolet cavalier wagon\n",
      "- chevrolet cavalier 2-door\n",
      "- pontiac j2000 se hatchback\n",
      "- dodge aries se\n",
      "- ford fairmont futura\n",
      "- amc concord dl\n",
      "- volkswagen rabbit l\n",
      "- mazda glc custom l\n",
      "- mazda glc custom\n",
      "- plymouth horizon miser\n",
      "- mercury lynx l\n",
      "- nissan stanza xe\n",
      "- honda civic (auto)\n",
      "- datsun 310 gx\n",
      "- buick century limited\n",
      "- oldsmobile cutlass ciera (diesel)\n",
      "- chrysler lebaron medallion\n",
      "- ford granada l\n",
      "- toyota celica gt\n",
      "- dodge charger 2.2\n",
      "- chevrolet camaro\n",
      "- ford mustang gl\n",
      "- vw pickup\n",
      "- dodge rampage\n",
      "- ford ranger\n",
      "- chevy s-10\n"
     ]
    }
   ],
   "source": [
    "\"\"\"\n",
    "Função: Listar todos os nomes de carros presentes no dataset.\n",
    "\n",
    "Esta célula permite verificar quais modelos de veículos estão incluídos na base,\n",
    "o que é útil para filtragens e análises específicas posteriormente.\n",
    "\"\"\"\n",
    "\n",
    "# [ACT] Verificar se a coluna 'name' existe e listar os nomes únicos\n",
    "if 'name' in df.columns:\n",
    "    nomes_carros = df['name'].unique()\n",
    "\n",
    "    print(\"🚗 Nomes de carros no dataset:\\n\")\n",
    "    for carro in nomes_carros:\n",
    "        print(\"-\", carro)\n",
    "else:\n",
    "    print(\"⚠️ A coluna com o nome dos carros não foi encontrada. Verifique o nome exato no dataset.\")\n"
   ]
  },
  {
   "cell_type": "code",
   "execution_count": 76,
   "metadata": {
    "collapsed": true,
    "jupyter": {
     "outputs_hidden": true
    }
   },
   "outputs": [
    {
     "name": "stdout",
     "output_type": "stream",
     "text": [
      "📋 Características do Chevrolet Camaro:\n",
      "\n"
     ]
    },
    {
     "data": {
      "text/html": [
       "<div>\n",
       "<style scoped>\n",
       "    .dataframe tbody tr th:only-of-type {\n",
       "        vertical-align: middle;\n",
       "    }\n",
       "\n",
       "    .dataframe tbody tr th {\n",
       "        vertical-align: top;\n",
       "    }\n",
       "\n",
       "    .dataframe thead th {\n",
       "        text-align: right;\n",
       "    }\n",
       "</style>\n",
       "<table border=\"1\" class=\"dataframe\">\n",
       "  <thead>\n",
       "    <tr style=\"text-align: right;\">\n",
       "      <th></th>\n",
       "      <th>mpg</th>\n",
       "      <th>cylinders</th>\n",
       "      <th>displacement</th>\n",
       "      <th>horsepower</th>\n",
       "      <th>weight</th>\n",
       "      <th>acceleration</th>\n",
       "      <th>modelyear</th>\n",
       "      <th>origin</th>\n",
       "      <th>name</th>\n",
       "    </tr>\n",
       "  </thead>\n",
       "  <tbody>\n",
       "    <tr>\n",
       "      <th>400</th>\n",
       "      <td>27.0</td>\n",
       "      <td>4.0</td>\n",
       "      <td>151.0</td>\n",
       "      <td>90.0</td>\n",
       "      <td>2950.0</td>\n",
       "      <td>17.3</td>\n",
       "      <td>82.0</td>\n",
       "      <td>1.0</td>\n",
       "      <td>chevrolet camaro</td>\n",
       "    </tr>\n",
       "  </tbody>\n",
       "</table>\n",
       "</div>"
      ],
      "text/plain": [
       "      mpg  cylinders  displacement  horsepower  weight  acceleration  \\\n",
       "400  27.0        4.0         151.0        90.0  2950.0          17.3   \n",
       "\n",
       "     modelyear  origin              name  \n",
       "400       82.0     1.0  chevrolet camaro  "
      ]
     },
     "metadata": {},
     "output_type": "display_data"
    }
   ],
   "source": [
    "\"\"\"\n",
    "Função: Exibir todas as características do carro 'Chevrolet Camaro'.\n",
    "\n",
    "Esta célula realiza uma busca textual no DataFrame e retorna todas as linhas que\n",
    "contêm o nome 'chevrolet camaro', permitindo analisar seus atributos completos.\n",
    "\"\"\"\n",
    "\n",
    "# [ACT] Verificar se a coluna 'name' existe\n",
    "if 'name' in df.columns:\n",
    "    # Filtrar registros que contenham 'chevrolet camaro' (sem diferenciar maiúsculas e minúsculas)\n",
    "    camaro = df[df['name'].str.contains(\"chevrolet camaro\", case=False, na=False)]\n",
    "\n",
    "    # [ASSERT] Exibir as características encontradas\n",
    "    if not camaro.empty:\n",
    "        print(\"📋 Características do Chevrolet Camaro:\\n\")\n",
    "        display(camaro)\n",
    "    else:\n",
    "        print(\"⚠️ Nenhum modelo 'chevrolet camaro' foi encontrado no dataset.\")\n",
    "else:\n",
    "    print(\"❌ A coluna com os nomes dos carros ('name') não foi encontrada no dataset.\")"
   ]
  },
  {
   "cell_type": "code",
   "execution_count": 77,
   "metadata": {
    "collapsed": true,
    "jupyter": {
     "outputs_hidden": true
    }
   },
   "outputs": [
    {
     "name": "stdout",
     "output_type": "stream",
     "text": [
      "⛽ Média de consumo dos veículos: 10.00 km/L\n"
     ]
    }
   ],
   "source": [
    "\"\"\"\n",
    "Função: Calcular a média de consumo em quilômetros por litro (km/L).\n",
    "\n",
    "A base fornece o consumo em milhas por galão (mpg). \n",
    "Esta célula converte para km/L usando as relações:\n",
    "- 1 milha ≈ 1.60934 km\n",
    "- 1 galão ≈ 3.78541 litros\n",
    "\"\"\"\n",
    "\n",
    "# [ACT] Criar nova coluna com consumo convertido para km/L\n",
    "df['km_por_litro'] = ((df['mpg'] * 1.60934) / 3.78541).round(2)\n",
    "\n",
    "# [ASSERT] Calcular e exibir a média geral do consumo\n",
    "media_consumo = df['km_por_litro'].mean()\n",
    "\n",
    "print(f\"⛽ Média de consumo dos veículos: {media_consumo:.2f} km/L\")\n"
   ]
  },
  {
   "cell_type": "markdown",
   "metadata": {},
   "source": [
    "### Preparação dos dados\n",
    "\n",
    "1. Existem exemplos com dados faltantes. Para fins de simplificação, elimine-os do dataset.\n",
    "2. Exclua a coluna com os nomes dos carros\n",
    "3. Converta mpg para km/l sabendo que: 1 mpg  = 0.425 km/l. Utilize apenas duas casas decimais nesta conversão.\n",
    "4. Remova a coluna mpg e insira a coluna kml no dataset."
   ]
  },
  {
   "cell_type": "code",
   "execution_count": 78,
   "metadata": {
    "collapsed": true,
    "jupyter": {
     "outputs_hidden": true
    }
   },
   "outputs": [
    {
     "name": "stdout",
     "output_type": "stream",
     "text": [
      "✅ Dados faltantes removidos com sucesso.\n",
      "📊 O dataset agora possui 392 exemplos e 10 atributos.\n"
     ]
    }
   ],
   "source": [
    "\"\"\"\n",
    "Função: Remover exemplos com dados faltantes do dataset.\n",
    "\n",
    "Esta célula elimina todas as linhas que contêm valores ausentes (NaN),\n",
    "garantindo que o conjunto de dados esteja limpo e adequado para o treinamento.\n",
    "\"\"\"\n",
    "\n",
    "# [ACT] Remover linhas com valores nulos\n",
    "df = df.dropna()\n",
    "\n",
    "# [ASSERT] Exibir informações atualizadas\n",
    "print(\"✅ Dados faltantes removidos com sucesso.\")\n",
    "print(f\"📊 O dataset agora possui {df.shape[0]} exemplos e {df.shape[1]} atributos.\")\n"
   ]
  },
  {
   "cell_type": "code",
   "execution_count": 79,
   "metadata": {
    "collapsed": true,
    "jupyter": {
     "outputs_hidden": true
    }
   },
   "outputs": [
    {
     "name": "stdout",
     "output_type": "stream",
     "text": [
      "✅ Coluna 'name' removida com sucesso.\n"
     ]
    }
   ],
   "source": [
    "\"\"\"\n",
    "Função: Remover a coluna com os nomes dos carros do dataset.\n",
    "\n",
    "Esta célula exclui a coluna 'name', que contém texto e não será utilizada como\n",
    "atributo preditivo no modelo de rede neural.\n",
    "\"\"\"\n",
    "\n",
    "# [ACT] Remover a coluna 'name' se existir\n",
    "if 'name' in df.columns:\n",
    "    df = df.drop(columns=['name'])\n",
    "    print(\"✅ Coluna 'name' removida com sucesso.\")\n",
    "else:\n",
    "    print(\"⚠️ A coluna 'name' não foi encontrada no dataset.\")\n"
   ]
  },
  {
   "cell_type": "code",
   "execution_count": 80,
   "metadata": {
    "collapsed": true,
    "jupyter": {
     "outputs_hidden": true
    }
   },
   "outputs": [
    {
     "name": "stdout",
     "output_type": "stream",
     "text": [
      "✅ Conversão concluída. Exemplo dos primeiros valores:\n"
     ]
    },
    {
     "data": {
      "text/html": [
       "<div>\n",
       "<style scoped>\n",
       "    .dataframe tbody tr th:only-of-type {\n",
       "        vertical-align: middle;\n",
       "    }\n",
       "\n",
       "    .dataframe tbody tr th {\n",
       "        vertical-align: top;\n",
       "    }\n",
       "\n",
       "    .dataframe thead th {\n",
       "        text-align: right;\n",
       "    }\n",
       "</style>\n",
       "<table border=\"1\" class=\"dataframe\">\n",
       "  <thead>\n",
       "    <tr style=\"text-align: right;\">\n",
       "      <th></th>\n",
       "      <th>mpg</th>\n",
       "      <th>kml</th>\n",
       "    </tr>\n",
       "  </thead>\n",
       "  <tbody>\n",
       "    <tr>\n",
       "      <th>0</th>\n",
       "      <td>18.0</td>\n",
       "      <td>7.65</td>\n",
       "    </tr>\n",
       "    <tr>\n",
       "      <th>1</th>\n",
       "      <td>15.0</td>\n",
       "      <td>6.38</td>\n",
       "    </tr>\n",
       "    <tr>\n",
       "      <th>2</th>\n",
       "      <td>18.0</td>\n",
       "      <td>7.65</td>\n",
       "    </tr>\n",
       "    <tr>\n",
       "      <th>3</th>\n",
       "      <td>16.0</td>\n",
       "      <td>6.80</td>\n",
       "    </tr>\n",
       "    <tr>\n",
       "      <th>4</th>\n",
       "      <td>17.0</td>\n",
       "      <td>7.22</td>\n",
       "    </tr>\n",
       "  </tbody>\n",
       "</table>\n",
       "</div>"
      ],
      "text/plain": [
       "    mpg   kml\n",
       "0  18.0  7.65\n",
       "1  15.0  6.38\n",
       "2  18.0  7.65\n",
       "3  16.0  6.80\n",
       "4  17.0  7.22"
      ]
     },
     "metadata": {},
     "output_type": "display_data"
    }
   ],
   "source": [
    "\"\"\"\n",
    "Função: Converter a coluna 'mpg' em 'kml' (quilômetros por litro).\n",
    "\n",
    "Sabendo que 1 mpg = 0.425 km/L, esta célula cria uma nova coluna 'kml'\n",
    "com valores arredondados para duas casas decimais.\n",
    "\"\"\"\n",
    "\n",
    "# [ACT] Criar a nova coluna convertida\n",
    "df['kml'] = (df['mpg'] * 0.425).round(2)\n",
    "\n",
    "# [ASSERT] Exibir amostra da conversão\n",
    "print(\"✅ Conversão concluída. Exemplo dos primeiros valores:\")\n",
    "display(df[['mpg', 'kml']].head())\n"
   ]
  },
  {
   "cell_type": "code",
   "execution_count": 81,
   "metadata": {
    "collapsed": true,
    "jupyter": {
     "outputs_hidden": true
    }
   },
   "outputs": [
    {
     "name": "stdout",
     "output_type": "stream",
     "text": [
      "✅ Coluna 'mpg' removida com sucesso.\n",
      "\n",
      "📊 Colunas atuais do dataset:\n",
      "['cylinders', 'displacement', 'horsepower', 'weight', 'acceleration', 'modelyear', 'origin', 'km_por_litro', 'kml']\n"
     ]
    }
   ],
   "source": [
    "\"\"\"\n",
    "Função: Remover a coluna 'mpg' original do dataset.\n",
    "\n",
    "Como a coluna 'kml' já contém os valores convertidos, a coluna 'mpg'\n",
    "não será mais necessária e deve ser excluída.\n",
    "\"\"\"\n",
    "\n",
    "# [ACT] Remover coluna mpg se existir\n",
    "if 'mpg' in df.columns:\n",
    "    df = df.drop(columns=['mpg'])\n",
    "    print(\"✅ Coluna 'mpg' removida com sucesso.\")\n",
    "else:\n",
    "    print(\"⚠️ A coluna 'mpg' não foi encontrada no dataset.\")\n",
    "\n",
    "# [ASSERT] Mostrar as colunas atuais após a preparação\n",
    "print(\"\\n📊 Colunas atuais do dataset:\")\n",
    "print(df.columns.tolist())\n"
   ]
  },
  {
   "cell_type": "markdown",
   "metadata": {},
   "source": [
    "### Organização dos dados para treinamento\n",
    "\n",
    "1. Remova a coluna kml e atribua-a a uma variável Y\n",
    "2. Atribua os demais valores do dataset a uma variável X\n",
    "3. Efetue uma partição holdout 70/30 com o sklearn"
   ]
  },
  {
   "cell_type": "code",
   "execution_count": 82,
   "metadata": {
    "collapsed": true,
    "jupyter": {
     "outputs_hidden": true
    }
   },
   "outputs": [
    {
     "name": "stdout",
     "output_type": "stream",
     "text": [
      "✅ Variáveis separadas com sucesso:\n",
      "📈 X (atributos de entrada): (392, 8)\n",
      "🎯 Y (variável alvo): (392,)\n"
     ]
    }
   ],
   "source": [
    "\"\"\"\n",
    "Função: Separar a variável alvo (kml) do restante do dataset.\n",
    "\n",
    "Nesta célula, removemos a coluna 'kml' do DataFrame e a armazenamos\n",
    "na variável Y, que representará a variável dependente a ser prevista.\n",
    "\"\"\"\n",
    "\n",
    "# [ACT] Separar variável alvo (Y)\n",
    "Y = df['kml']\n",
    "\n",
    "# [ACT] Criar variável X com os demais atributos\n",
    "X = df.drop(columns=['kml'])\n",
    "\n",
    "# [ASSERT] Verificar dimensões das variáveis criadas\n",
    "print(\"✅ Variáveis separadas com sucesso:\")\n",
    "print(f\"📈 X (atributos de entrada): {X.shape}\")\n",
    "print(f\"🎯 Y (variável alvo): {Y.shape}\")\n"
   ]
  },
  {
   "cell_type": "code",
   "execution_count": 83,
   "metadata": {
    "collapsed": true,
    "jupyter": {
     "outputs_hidden": true
    }
   },
   "outputs": [
    {
     "name": "stdout",
     "output_type": "stream",
     "text": [
      "✅ Variável 'X' criada com sucesso.\n",
      "📈 Dimensão de X: (392, 8)\n"
     ]
    },
    {
     "data": {
      "text/html": [
       "<div>\n",
       "<style scoped>\n",
       "    .dataframe tbody tr th:only-of-type {\n",
       "        vertical-align: middle;\n",
       "    }\n",
       "\n",
       "    .dataframe tbody tr th {\n",
       "        vertical-align: top;\n",
       "    }\n",
       "\n",
       "    .dataframe thead th {\n",
       "        text-align: right;\n",
       "    }\n",
       "</style>\n",
       "<table border=\"1\" class=\"dataframe\">\n",
       "  <thead>\n",
       "    <tr style=\"text-align: right;\">\n",
       "      <th></th>\n",
       "      <th>cylinders</th>\n",
       "      <th>displacement</th>\n",
       "      <th>horsepower</th>\n",
       "      <th>weight</th>\n",
       "      <th>acceleration</th>\n",
       "      <th>modelyear</th>\n",
       "      <th>origin</th>\n",
       "      <th>km_por_litro</th>\n",
       "    </tr>\n",
       "  </thead>\n",
       "  <tbody>\n",
       "    <tr>\n",
       "      <th>0</th>\n",
       "      <td>8.0</td>\n",
       "      <td>307.0</td>\n",
       "      <td>130.0</td>\n",
       "      <td>3504.0</td>\n",
       "      <td>12.0</td>\n",
       "      <td>70.0</td>\n",
       "      <td>1.0</td>\n",
       "      <td>7.65</td>\n",
       "    </tr>\n",
       "    <tr>\n",
       "      <th>1</th>\n",
       "      <td>8.0</td>\n",
       "      <td>350.0</td>\n",
       "      <td>165.0</td>\n",
       "      <td>3693.0</td>\n",
       "      <td>11.5</td>\n",
       "      <td>70.0</td>\n",
       "      <td>1.0</td>\n",
       "      <td>6.38</td>\n",
       "    </tr>\n",
       "    <tr>\n",
       "      <th>2</th>\n",
       "      <td>8.0</td>\n",
       "      <td>318.0</td>\n",
       "      <td>150.0</td>\n",
       "      <td>3436.0</td>\n",
       "      <td>11.0</td>\n",
       "      <td>70.0</td>\n",
       "      <td>1.0</td>\n",
       "      <td>7.65</td>\n",
       "    </tr>\n",
       "    <tr>\n",
       "      <th>3</th>\n",
       "      <td>8.0</td>\n",
       "      <td>304.0</td>\n",
       "      <td>150.0</td>\n",
       "      <td>3433.0</td>\n",
       "      <td>12.0</td>\n",
       "      <td>70.0</td>\n",
       "      <td>1.0</td>\n",
       "      <td>6.80</td>\n",
       "    </tr>\n",
       "    <tr>\n",
       "      <th>4</th>\n",
       "      <td>8.0</td>\n",
       "      <td>302.0</td>\n",
       "      <td>140.0</td>\n",
       "      <td>3449.0</td>\n",
       "      <td>10.5</td>\n",
       "      <td>70.0</td>\n",
       "      <td>1.0</td>\n",
       "      <td>7.23</td>\n",
       "    </tr>\n",
       "  </tbody>\n",
       "</table>\n",
       "</div>"
      ],
      "text/plain": [
       "   cylinders  displacement  horsepower  weight  acceleration  modelyear  \\\n",
       "0        8.0         307.0       130.0  3504.0          12.0       70.0   \n",
       "1        8.0         350.0       165.0  3693.0          11.5       70.0   \n",
       "2        8.0         318.0       150.0  3436.0          11.0       70.0   \n",
       "3        8.0         304.0       150.0  3433.0          12.0       70.0   \n",
       "4        8.0         302.0       140.0  3449.0          10.5       70.0   \n",
       "\n",
       "   origin  km_por_litro  \n",
       "0     1.0          7.65  \n",
       "1     1.0          6.38  \n",
       "2     1.0          7.65  \n",
       "3     1.0          6.80  \n",
       "4     1.0          7.23  "
      ]
     },
     "metadata": {},
     "output_type": "display_data"
    }
   ],
   "source": [
    "\"\"\"\n",
    "Função: Atribuir os demais atributos do dataset à variável X.\n",
    "\n",
    "Esta célula cria a matriz de entrada (features) que será usada como \n",
    "entrada da rede neural para prever a variável alvo.\n",
    "\"\"\"\n",
    "\n",
    "# [ACT] Criar X com todas as colunas, exceto 'kml'\n",
    "X = df.drop(columns=['kml'])\n",
    "\n",
    "# [ASSERT] Exibir dimensões e amostra dos dados\n",
    "print(\"✅ Variável 'X' criada com sucesso.\")\n",
    "print(f\"📈 Dimensão de X: {X.shape}\")\n",
    "display(X.head())"
   ]
  },
  {
   "cell_type": "code",
   "execution_count": 84,
   "metadata": {
    "collapsed": true,
    "jupyter": {
     "outputs_hidden": true
    }
   },
   "outputs": [
    {
     "name": "stdout",
     "output_type": "stream",
     "text": [
      "✅ Partição realizada com sucesso!\n",
      "📊 Conjunto de treinamento: 274 exemplos\n",
      "🧪 Conjunto de teste: 118 exemplos\n"
     ]
    }
   ],
   "source": [
    "\"\"\"\n",
    "Função: Realizar a partição Holdout do conjunto de dados.\n",
    "\n",
    "Nesta célula, dividimos o dataset em:\n",
    "- 70% para treinamento do modelo\n",
    "- 30% para teste e avaliação\n",
    "\n",
    "A função `train_test_split` do scikit-learn é utilizada para essa divisão.\n",
    "\"\"\"\n",
    "\n",
    "# [ACT] Importar a função necessária\n",
    "from sklearn.model_selection import train_test_split\n",
    "\n",
    "# [ACT] Realizar a divisão do dataset (70% treino, 30% teste)\n",
    "X_train, X_test, Y_train, Y_test = train_test_split(\n",
    "    X, Y, test_size=0.30, random_state=42\n",
    ")\n",
    "\n",
    "# [ASSERT] Exibir o tamanho de cada subconjunto\n",
    "print(\"✅ Partição realizada com sucesso!\")\n",
    "print(f\"📊 Conjunto de treinamento: {X_train.shape[0]} exemplos\")\n",
    "print(f\"🧪 Conjunto de teste: {X_test.shape[0]} exemplos\")\n"
   ]
  },
  {
   "cell_type": "markdown",
   "metadata": {},
   "source": [
    "### Treinamento de um modelo de regressão linear\n",
    "\n",
    "1. Importe o modelo da biblioteca sklearn\n",
    "2. Instancie o modelo com parâmetros padrão (default)\n",
    "3. Execute o algoritmo de treinamento com os dados de treino"
   ]
  },
  {
   "cell_type": "code",
   "execution_count": 85,
   "metadata": {},
   "outputs": [],
   "source": [
    "# ✅ Importação da classe LinearRegression concluída no início do notebook."
   ]
  },
  {
   "cell_type": "code",
   "execution_count": 86,
   "metadata": {},
   "outputs": [
    {
     "name": "stdout",
     "output_type": "stream",
     "text": [
      "✅ Modelo de Regressão Linear instanciado com sucesso.\n"
     ]
    }
   ],
   "source": [
    "\"\"\"\n",
    "Função: Instanciar o modelo de Regressão Linear.\n",
    "\n",
    "Nesta célula, criamos um objeto do modelo `LinearRegression` utilizando os\n",
    "parâmetros padrão. Esse objeto será usado para treinar e realizar previsões.\n",
    "\"\"\"\n",
    "\n",
    "# [ACT] Instanciar o modelo\n",
    "regr = LinearRegression()\n",
    "\n",
    "# [ASSERT] Confirmação\n",
    "print(\"✅ Modelo de Regressão Linear instanciado com sucesso.\")"
   ]
  },
  {
   "cell_type": "code",
   "execution_count": 87,
   "metadata": {
    "collapsed": true,
    "jupyter": {
     "outputs_hidden": true
    }
   },
   "outputs": [
    {
     "name": "stdout",
     "output_type": "stream",
     "text": [
      "✅ Modelo treinado com sucesso.\n"
     ]
    }
   ],
   "source": [
    "\"\"\"\n",
    "Função: Treinar o modelo de Regressão Linear com os dados de treino.\n",
    "\n",
    "Nesta célula, utilizamos o método `.fit()` para ajustar o modelo aos dados.\n",
    "O modelo aprenderá a relação entre as variáveis de entrada (X_train) e a\n",
    "variável alvo (Y_train).\n",
    "\"\"\"\n",
    "\n",
    "# [ACT] Treinar o modelo\n",
    "regr.fit(X_train, Y_train)\n",
    "\n",
    "# [ASSERT] Confirmação\n",
    "print(\"✅ Modelo treinado com sucesso.\")"
   ]
  },
  {
   "cell_type": "markdown",
   "metadata": {},
   "source": [
    "### Teste do modelo\n",
    "\n",
    "Vamos observar a saída do modelo para um exemplo individual existente nos dados de treino:\n",
    "* Atributos preditores: X_test[2:3]\n",
    "* Atributo alvo: Y_test.iloc[2]\n",
    "* Qual o resultado previsto para o modelo, dados estes atributos preditores?"
   ]
  },
  {
   "cell_type": "code",
   "execution_count": 88,
   "metadata": {
    "collapsed": true,
    "jupyter": {
     "outputs_hidden": true
    }
   },
   "outputs": [
    {
     "name": "stdout",
     "output_type": "stream",
     "text": [
      "=== Teste do Modelo com um Exemplo Individual ===\n",
      "\n",
      "📊 Atributos preditores utilizados:\n",
      "\n"
     ]
    },
    {
     "data": {
      "text/html": [
       "<style type=\"text/css\">\n",
       "#T_4023f_row0_col0, #T_4023f_row0_col1, #T_4023f_row0_col2, #T_4023f_row0_col3, #T_4023f_row0_col4, #T_4023f_row0_col5, #T_4023f_row0_col6, #T_4023f_row0_col7 {\n",
       "  text-align: center;\n",
       "}\n",
       "</style>\n",
       "<table id=\"T_4023f\">\n",
       "  <caption>Exemplo selecionado do conjunto de teste</caption>\n",
       "  <thead>\n",
       "    <tr>\n",
       "      <th class=\"blank level0\" >&nbsp;</th>\n",
       "      <th id=\"T_4023f_level0_col0\" class=\"col_heading level0 col0\" >cylinders</th>\n",
       "      <th id=\"T_4023f_level0_col1\" class=\"col_heading level0 col1\" >displacement</th>\n",
       "      <th id=\"T_4023f_level0_col2\" class=\"col_heading level0 col2\" >horsepower</th>\n",
       "      <th id=\"T_4023f_level0_col3\" class=\"col_heading level0 col3\" >weight</th>\n",
       "      <th id=\"T_4023f_level0_col4\" class=\"col_heading level0 col4\" >acceleration</th>\n",
       "      <th id=\"T_4023f_level0_col5\" class=\"col_heading level0 col5\" >modelyear</th>\n",
       "      <th id=\"T_4023f_level0_col6\" class=\"col_heading level0 col6\" >origin</th>\n",
       "      <th id=\"T_4023f_level0_col7\" class=\"col_heading level0 col7\" >km_por_litro</th>\n",
       "    </tr>\n",
       "  </thead>\n",
       "  <tbody>\n",
       "    <tr>\n",
       "      <th id=\"T_4023f_level0_row0\" class=\"row_heading level0 row0\" >255</th>\n",
       "      <td id=\"T_4023f_row0_col0\" class=\"data row0 col0\" >4.000000</td>\n",
       "      <td id=\"T_4023f_row0_col1\" class=\"data row0 col1\" >91.000000</td>\n",
       "      <td id=\"T_4023f_row0_col2\" class=\"data row0 col2\" >60.000000</td>\n",
       "      <td id=\"T_4023f_row0_col3\" class=\"data row0 col3\" >1800.000000</td>\n",
       "      <td id=\"T_4023f_row0_col4\" class=\"data row0 col4\" >16.400000</td>\n",
       "      <td id=\"T_4023f_row0_col5\" class=\"data row0 col5\" >78.000000</td>\n",
       "      <td id=\"T_4023f_row0_col6\" class=\"data row0 col6\" >3.000000</td>\n",
       "      <td id=\"T_4023f_row0_col7\" class=\"data row0 col7\" >15.350000</td>\n",
       "    </tr>\n",
       "  </tbody>\n",
       "</table>\n"
      ],
      "text/plain": [
       "<pandas.io.formats.style.Styler at 0x78931220d280>"
      ]
     },
     "metadata": {},
     "output_type": "display_data"
    },
    {
     "name": "stdout",
     "output_type": "stream",
     "text": [
      "\n",
      "🎯 Resultado da previsão:\n",
      "- Valor real do consumo (kml):     15.34\n",
      "- Valor previsto pelo modelo:      15.35\n",
      "- Erro absoluto da previsão:       0.0054 km/L\n"
     ]
    }
   ],
   "source": [
    "\"\"\"\n",
    "Função: Testar o modelo de Regressão Linear com um exemplo individual (saída formatada).\n",
    "\n",
    "Nesta célula, utilizamos o modelo treinado para prever o valor da variável alvo \n",
    "para um exemplo específico do conjunto de teste. Em seguida, comparamos a previsão \n",
    "com o valor real de forma organizada e legível.\n",
    "\"\"\"\n",
    "\n",
    "# [ACT] Selecionar um exemplo individual do conjunto de teste\n",
    "X_exemplo = X_test.iloc[2:3]\n",
    "Y_real = Y_test.iloc[2]\n",
    "\n",
    "# [ACT] Gerar a previsão do modelo\n",
    "Y_previsto = regr.predict(X_exemplo)[0]\n",
    "\n",
    "# [ASSERT] Exibir os resultados formatados\n",
    "print(\"=== Teste do Modelo com um Exemplo Individual ===\\n\")\n",
    "\n",
    "print(\"📊 Atributos preditores utilizados:\\n\")\n",
    "display(X_exemplo.style.set_properties(**{'text-align': 'center'}).set_caption(\"Exemplo selecionado do conjunto de teste\"))\n",
    "\n",
    "print(\"\\n🎯 Resultado da previsão:\")\n",
    "print(f\"- Valor real do consumo (kml):     {Y_real:.2f}\")\n",
    "print(f\"- Valor previsto pelo modelo:      {Y_previsto:.2f}\")\n",
    "\n",
    "# [INFO] Comparação do erro absoluto\n",
    "erro_abs = abs(Y_real - Y_previsto)\n",
    "print(f\"- Erro absoluto da previsão:       {erro_abs:.4f} km/L\")\n"
   ]
  },
  {
   "cell_type": "markdown",
   "metadata": {},
   "source": [
    "### Teste do modelo\n",
    "\n",
    "1. Obtenha o R^2 para os dados de teste\n",
    " * Efetue a importação de r2_score do pacote sklearn.metrics\n",
    " * Trata-se de um valor no intervalo [0,1]\n",
    " * Quanto mais próximo de 1, melhor é o modelo"
   ]
  },
  {
   "cell_type": "code",
   "execution_count": 90,
   "metadata": {
    "collapsed": true,
    "jupyter": {
     "outputs_hidden": true
    }
   },
   "outputs": [
    {
     "name": "stdout",
     "output_type": "stream",
     "text": [
      "=== Avaliação do Modelo de Regressão Linear ===\n",
      "\n",
      "Conjunto de Teste:\n",
      "- Total de exemplos avaliados: 118\n",
      "\n",
      "Resultado do coeficiente de determinação (R²):\n",
      "- R² do modelo: 1.0000\n",
      "\n",
      "Amostra de previsões do modelo (primeiros 10 exemplos):\n",
      "\n"
     ]
    },
    {
     "data": {
      "text/html": [
       "<style type=\"text/css\">\n",
       "#T_e70f8_row0_col0, #T_e70f8_row0_col1, #T_e70f8_row1_col0, #T_e70f8_row1_col1, #T_e70f8_row2_col0, #T_e70f8_row2_col1, #T_e70f8_row3_col0, #T_e70f8_row3_col1, #T_e70f8_row4_col0, #T_e70f8_row4_col1, #T_e70f8_row5_col0, #T_e70f8_row5_col1, #T_e70f8_row6_col0, #T_e70f8_row6_col1, #T_e70f8_row7_col0, #T_e70f8_row7_col1, #T_e70f8_row8_col0, #T_e70f8_row8_col1, #T_e70f8_row9_col0, #T_e70f8_row9_col1 {\n",
       "  text-align: center;\n",
       "}\n",
       "</style>\n",
       "<table id=\"T_e70f8\">\n",
       "  <caption>Comparação entre valores reais e previstos</caption>\n",
       "  <thead>\n",
       "    <tr>\n",
       "      <th class=\"blank level0\" >&nbsp;</th>\n",
       "      <th id=\"T_e70f8_level0_col0\" class=\"col_heading level0 col0\" >Valor Real (kml)</th>\n",
       "      <th id=\"T_e70f8_level0_col1\" class=\"col_heading level0 col1\" >Valor Previsto (kml)</th>\n",
       "    </tr>\n",
       "  </thead>\n",
       "  <tbody>\n",
       "    <tr>\n",
       "      <th id=\"T_e70f8_level0_row0\" class=\"row_heading level0 row0\" >0</th>\n",
       "      <td id=\"T_e70f8_row0_col0\" class=\"data row0 col0\" >11.050000</td>\n",
       "      <td id=\"T_e70f8_row0_col1\" class=\"data row0 col1\" >11.047102</td>\n",
       "    </tr>\n",
       "    <tr>\n",
       "      <th id=\"T_e70f8_level0_row1\" class=\"row_heading level0 row1\" >1</th>\n",
       "      <td id=\"T_e70f8_row1_col0\" class=\"data row1 col0\" >9.180000</td>\n",
       "      <td id=\"T_e70f8_row1_col1\" class=\"data row1 col1\" >9.177559</td>\n",
       "    </tr>\n",
       "    <tr>\n",
       "      <th id=\"T_e70f8_level0_row2\" class=\"row_heading level0 row2\" >2</th>\n",
       "      <td id=\"T_e70f8_row2_col0\" class=\"data row2 col0\" >15.340000</td>\n",
       "      <td id=\"T_e70f8_row2_col1\" class=\"data row2 col1\" >15.345380</td>\n",
       "    </tr>\n",
       "    <tr>\n",
       "      <th id=\"T_e70f8_level0_row3\" class=\"row_heading level0 row3\" >3</th>\n",
       "      <td id=\"T_e70f8_row3_col0\" class=\"data row3 col0\" >11.050000</td>\n",
       "      <td id=\"T_e70f8_row3_col1\" class=\"data row3 col1\" >11.047279</td>\n",
       "    </tr>\n",
       "    <tr>\n",
       "      <th id=\"T_e70f8_level0_row4\" class=\"row_heading level0 row4\" >4</th>\n",
       "      <td id=\"T_e70f8_row4_col0\" class=\"data row4 col0\" >11.480000</td>\n",
       "      <td id=\"T_e70f8_row4_col1\" class=\"data row4 col1\" >11.475838</td>\n",
       "    </tr>\n",
       "    <tr>\n",
       "      <th id=\"T_e70f8_level0_row5\" class=\"row_heading level0 row5\" >5</th>\n",
       "      <td id=\"T_e70f8_row5_col0\" class=\"data row5 col0\" >11.900000</td>\n",
       "      <td id=\"T_e70f8_row5_col1\" class=\"data row5 col1\" >11.896568</td>\n",
       "    </tr>\n",
       "    <tr>\n",
       "      <th id=\"T_e70f8_level0_row6\" class=\"row_heading level0 row6\" >6</th>\n",
       "      <td id=\"T_e70f8_row6_col0\" class=\"data row6 col0\" >5.520000</td>\n",
       "      <td id=\"T_e70f8_row6_col1\" class=\"data row6 col1\" >5.528302</td>\n",
       "    </tr>\n",
       "    <tr>\n",
       "      <th id=\"T_e70f8_level0_row7\" class=\"row_heading level0 row7\" >7</th>\n",
       "      <td id=\"T_e70f8_row7_col0\" class=\"data row7 col0\" >11.050000</td>\n",
       "      <td id=\"T_e70f8_row7_col1\" class=\"data row7 col1\" >11.046740</td>\n",
       "    </tr>\n",
       "    <tr>\n",
       "      <th id=\"T_e70f8_level0_row8\" class=\"row_heading level0 row8\" >8</th>\n",
       "      <td id=\"T_e70f8_row8_col0\" class=\"data row8 col0\" >8.070000</td>\n",
       "      <td id=\"T_e70f8_row8_col1\" class=\"data row8 col1\" >8.076394</td>\n",
       "    </tr>\n",
       "    <tr>\n",
       "      <th id=\"T_e70f8_level0_row9\" class=\"row_heading level0 row9\" >9</th>\n",
       "      <td id=\"T_e70f8_row9_col0\" class=\"data row9 col0\" >12.320000</td>\n",
       "      <td id=\"T_e70f8_row9_col1\" class=\"data row9 col1\" >12.326234</td>\n",
       "    </tr>\n",
       "  </tbody>\n",
       "</table>\n"
      ],
      "text/plain": [
       "<pandas.io.formats.style.Styler at 0x789312234860>"
      ]
     },
     "metadata": {},
     "output_type": "display_data"
    }
   ],
   "source": [
    "\"\"\"\n",
    "Função: Calcular e exibir o coeficiente de determinação (R²) do modelo.\n",
    "\n",
    "O R² mede a proporção da variabilidade da variável dependente que é explicada\n",
    "pelo modelo. Valores mais próximos de 1 indicam melhor desempenho.\n",
    "\"\"\"\n",
    "\n",
    "# [ACT] Fazer previsões para o conjunto de teste\n",
    "Y_pred = regr.predict(X_test)\n",
    "\n",
    "# [ACT] Calcular o coeficiente de determinação R²\n",
    "r2 = r2_score(Y_test, Y_pred)\n",
    "\n",
    "# [ASSERT] Exibir o resultado de forma organizada\n",
    "print(\"=== Avaliação do Modelo de Regressão Linear ===\\n\")\n",
    "\n",
    "print(\"Conjunto de Teste:\")\n",
    "print(f\"- Total de exemplos avaliados: {X_test.shape[0]}\\n\")\n",
    "\n",
    "print(\"Resultado do coeficiente de determinação (R²):\")\n",
    "print(f\"- R² do modelo: {r2:.4f}\\n\")\n",
    "\n",
    "# [INFO] Criar uma pequena tabela comparando valores reais e previstos\n",
    "comparacao = pd.DataFrame({\n",
    "    \"Valor Real (kml)\": Y_test.values[:10],\n",
    "    \"Valor Previsto (kml)\": Y_pred[:10]\n",
    "})\n",
    "\n",
    "print(\"Amostra de previsões do modelo (primeiros 10 exemplos):\\n\")\n",
    "display(comparacao.style.set_properties(**{'text-align': 'center'}).set_caption(\"Comparação entre valores reais e previstos\"))\n"
   ]
  },
  {
   "cell_type": "markdown",
   "metadata": {},
   "source": [
    "### Obtendo e visualizando os resíduos\n",
    "\n",
    "Uma maneira muito comum de visualizarmos o quão bom certo modelo é para aprender determinados padrões dá-se por meio da visualização dos resíduos, isto é, da diferença entre os valores previstos e observados. Adapte o código a seguir para calcular os resíduos produzidos pelo seu modelo."
   ]
  },
  {
   "cell_type": "code",
   "execution_count": 91,
   "metadata": {
    "collapsed": true,
    "jupyter": {
     "outputs_hidden": true
    }
   },
   "outputs": [
    {
     "name": "stdout",
     "output_type": "stream",
     "text": [
      "=== Amostra dos resíduos calculados ===\n",
      "\n",
      "86     0.002898\n",
      "283    0.002441\n",
      "255   -0.005380\n",
      "63     0.002721\n",
      "401    0.004162\n",
      "212    0.003432\n",
      "50    -0.008302\n",
      "242    0.003260\n",
      "159   -0.006394\n",
      "124   -0.006234\n",
      "Name: kml, dtype: float64\n",
      "\n",
      "Resumo estatístico dos resíduos:\n",
      "count    118.000000\n",
      "mean      -0.000122\n",
      "std        0.004826\n",
      "min       -0.009259\n",
      "25%       -0.005566\n",
      "50%        0.002522\n",
      "75%        0.003451\n",
      "max        0.005567\n",
      "Name: kml, dtype: float64\n"
     ]
    },
    {
     "data": {
      "image/png": "[encoded data removed]",
      "text/plain": [
       "<Figure size 800x500 with 1 Axes>"
      ]
     },
     "metadata": {},
     "output_type": "display_data"
    }
   ],
   "source": [
    "\"\"\"\n",
    "Função: Calcular e visualizar os resíduos do modelo de regressão linear.\n",
    "\n",
    "Os resíduos são a diferença entre os valores observados (reais) e os valores previstos pelo modelo.\n",
    "Ao plotar esses resíduos, podemos avaliar se eles estão distribuídos de forma aleatória em torno de zero,\n",
    "o que indica um bom ajuste do modelo.\n",
    "\"\"\"\n",
    "\n",
    "# [ACT] Calcular os resíduos\n",
    "residuos = Y_test - Y_pred\n",
    "\n",
    "# [ASSERT] Exibir amostra dos resíduos\n",
    "print(\"=== Amostra dos resíduos calculados ===\\n\")\n",
    "print(residuos.head(10))\n",
    "print(\"\\nResumo estatístico dos resíduos:\")\n",
    "print(residuos.describe())\n",
    "\n",
    "# [ACT] Plotar os resíduos\n",
    "plt.figure(figsize=(8, 5))\n",
    "plt.axhline(y=0, color='black', linewidth=2)  # linha horizontal no zero\n",
    "plt.scatter(Y_test, residuos, color='red', alpha=0.7)\n",
    "\n",
    "plt.title(\"Distribuição dos Resíduos do Modelo de Regressão Linear\", fontsize=14)\n",
    "plt.xlabel(\"Valores Reais de Consumo (kml)\", fontsize=12)\n",
    "plt.ylabel(\"Resíduos (Valor Real - Valor Previsto)\", fontsize=12)\n",
    "plt.grid(True, linestyle='--', alpha=0.6)\n",
    "plt.show()"
   ]
  },
  {
   "cell_type": "code",
   "execution_count": null,
   "metadata": {
    "collapsed": true,
    "jupyter": {
     "outputs_hidden": true
    }
   },
   "outputs": [],
   "source": [
    "x = [0,int(max(Y_test))]\n",
    "y = [0,0]\n",
    "plt.plot(x,y,linewidth=3)\n",
    "plt.plot(Y_test,residuos,'ro')\n",
    "plt.ylabel('Residuos')\n",
    "plt.xlabel('kml')\n",
    "plt.show()"
   ]
  },
  {
   "cell_type": "markdown",
   "metadata": {},
   "source": [
    "## Propondo RNAs MLP\n",
    "\n",
    "### Escalonando os atributos\n",
    "\n",
    "O treinamento de uma rede neural artificial é mais eficiente quando os valores que lhes são fornecidos como entrada são pequenos, pois isto favorece a convergência. Isto é feito escalonando todos os atributos para o intervalo [0,1], mas precisa ser feito de maneira cautelosa, para que informações do conjunto de teste não sejam fornecidas no treinamento.\n",
    "\n",
    "Há duas estratégias para tal escalonamento: normalização e padronização. Ambas possuem características particulares, vantagens e limitações, como é possível ver aqui: https://www.analyticsvidhya.com/blog/2020/04/feature-scaling-machine-learning-normalization-standardization/\n",
    "\n",
    "No nosso caso, vamos usar a padronização. Assim, com os atributos preditores do treinamento, isto é, X_train, deve-se subtrair a média e dividir pelo desvio padrão:\n",
    "\n",
    "X_train_std = (X_train - np.mean(X_train))/np.std(X_train)\n",
    "\n",
    "Em seguida, o mesmo deve ser feito com os atributos preditores do conjunto de testes, mas com padronização relativa ao conjunto de treinamento:\n",
    "\n",
    "X_test_std = (X_test - np.mean(X_train))/np.std(X_train)\n",
    "\n",
    "Se todo o conjunto X for utilizado na padronização, a rede neural receberá informações do conjunto de teste por meio da média e variância utilizada para preparar os dados de treinamento, o que não é desejável.\n",
    "\n",
    "\n",
    "### Proposição de uma RNA MLP de Camada Única\n",
    "\n",
    "1. Consulte a documentação em https://scikit-learn.org/stable/modules/generated/sklearn.neural_network.MLPClassifier.html\n",
    "2. Treine uma rede neural multilayer perceptron para este problema com uma única camada e dez neurônios  \n",
    "    2.1 Utilize a função de ativação ReLU  \n",
    "    2.2 Utilize o solver Adam    \n",
    "    2.3 Imprima o passo a passo do treinamento    \n",
    "    2.4 Utilize o número máximo de épocas igual a 300\n",
    "3. Obtenha o $R^2$ do conjunto de testes"
   ]
  },
  {
   "cell_type": "code",
   "execution_count": null,
   "metadata": {
    "collapsed": true,
    "jupyter": {
     "outputs_hidden": true
    }
   },
   "outputs": [],
   "source": []
  },
  {
   "cell_type": "markdown",
   "metadata": {
    "jupyter": {
     "outputs_hidden": true
    }
   },
   "source": [
    "### Proposição de uma RNA MLP com duas camadas ocultas\n",
    "\n",
    "1. Treine uma rede neural multilayer perceptron para este problema com duas camadas ocultas, com número de neurônios à sua escolha  \n",
    "    2.1 Utilize a função de ativação ReLU  \n",
    "    2.2 Utilize o solver Adam    \n",
    "    2.3 Imprima o passo a passo do treinamento    \n",
    "    2.4 Utilize o número máximo de épocas igual a 300\n",
    "2. Obtenha o $R^2$ do conjunto de testes"
   ]
  },
  {
   "cell_type": "code",
   "execution_count": null,
   "metadata": {},
   "outputs": [],
   "source": []
  },
  {
   "cell_type": "code",
   "execution_count": null,
   "metadata": {},
   "outputs": [],
   "source": []
  },
  {
   "cell_type": "markdown",
   "metadata": {},
   "source": [
    "### Para Discussão\n",
    "\n",
    "- Qual melhor modelo para este problema? Justifique"
   ]
  },
  {
   "cell_type": "code",
   "execution_count": null,
   "metadata": {},
   "outputs": [],
   "source": []
  },
  {
   "cell_type": "code",
   "execution_count": null,
   "metadata": {},
   "outputs": [],
   "source": []
  }
 ],
 "metadata": {
  "kernelspec": {
   "display_name": "venv",
   "language": "python",
   "name": "python3"
  },
  "language_info": {
   "codemirror_mode": {
    "name": "ipython",
    "version": 3
   },
   "file_extension": ".py",
   "mimetype": "text/x-python",
   "name": "python",
   "nbconvert_exporter": "python",
   "pygments_lexer": "ipython3",
   "version": "3.12.3"
  }
 },
 "nbformat": 4,
 "nbformat_minor": 4
}
